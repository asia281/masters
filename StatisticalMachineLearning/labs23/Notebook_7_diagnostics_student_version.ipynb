{
 "cells": [
  {
   "cell_type": "markdown",
   "metadata": {
    "id": "SisIDNTm3KNb"
   },
   "source": [
    "<center><img src='https://drive.google.com/uc?id=1_utx_ZGclmCwNttSe40kYA6VHzNocdET' height=\"60\">\n",
    "\n",
    "AI TECH - Akademia Innowacyjnych Zastosowań Technologii Cyfrowych. Program Operacyjny Polska Cyfrowa na lata 2014-2020\n",
    "<hr>\n",
    "\n",
    "<img src='https://drive.google.com/uc?id=1BXZ0u3562N_MqCLcekI-Ens77Kk4LpPm'>\n",
    "\n",
    "\n",
    "Projekt współfinansowany ze środków Unii Europejskiej w ramach Europejskiego Funduszu Rozwoju Regionalnego\n",
    "Program Operacyjny Polska Cyfrowa na lata 2014-2020,\n",
    "Oś Priorytetowa nr 3 \"Cyfrowe kompetencje społeczeństwa\" Działanie  nr 3.2 \"Innowacyjne rozwiązania na rzecz aktywizacji cyfrowej\".   \n",
    "Tytuł projektu:  „Akademia Innowacyjnych Zastosowań Technologii Cyfrowych (AI Tech)”\n",
    "    </center>"
   ]
  },
  {
   "cell_type": "markdown",
   "metadata": {
    "id": "685bcedd"
   },
   "source": [
    "# Statistical machine learning - Notebook 7, version for students\n",
    "**Author: Dorota Celińska-Kopczyńska, Michał Ciach**  \n"
   ]
  },
  {
   "cell_type": "markdown",
   "metadata": {
    "id": "eAMEuAbbH-Or"
   },
   "source": [
    "## Description\n"
   ]
  },
  {
   "cell_type": "markdown",
   "metadata": {
    "id": "YXweAU-UR7F7"
   },
   "source": [
    "In today's class, we will work with diagnostics of linear model, i.e., we will check if the assumptions of the linear regression are satisfied. We will also discuss the individual and joint significance of the parameters in our model and look for any outlying observations.\n",
    "\n",
    "The assumptions we will check can be summarized as the LINE rule:    \n",
    "\n",
    "- **L**inear trend,\n",
    "- **I**ndependent residuals (lack of autocorrelation),\n",
    "- **N**ormally distributed residuals,\n",
    "- **E**qual variance of residuals for all values of independent variables (homoskesasticity).\n",
    "\n",
    "We will check them visually by creating and analyzing the following diagnostic plots:   \n",
    "\n",
    "- The residual value vs the fitted value\n",
    "- The root square of the absolute value of standardized residuals vs the fitted value,\n",
    "- The histogram of residuals.\n",
    "\n",
    "The first plot is used to check if the relationship between the response (the dependent variable) and the predictors (the independent variables) is linear, and for a very rough check if the residuals are uncorrelated. We expect values distributed symmetrically across the line $y=0$. However, as stated in the lecture, this plot may be misleading if non-spherical random disturbance occurs. That is why, we encourage to perform Ramsey RESET test.  \n",
    "\n",
    "The second plot is used to check homoskedasticity (equality for all values of the independent variables) of variance. We expect values distributed symmetrically across a straight horizontal line.    \n",
    "\n",
    "The histogram is used to visualize the distribution of residuals.  \n",
    "You can also use a qq-plot in this case if you know how to create and interpret it.\n",
    "\n",
    "Finally, inspect either the influence plot or the leverage-resid2 plot,  [implemented in `statsmodels`](https://www.statsmodels.org/dev/examples/notebooks/generated/regression_plots.html).  \n",
    "Both plots used to detect outliers that highly influence the model parameters."
   ]
  },
  {
   "cell_type": "code",
   "execution_count": 4,
   "metadata": {
    "colab": {
     "base_uri": "https://localhost:8080/"
    },
    "id": "jkB6U888K8KX",
    "outputId": "1089f44a-1a34-4ba5-bb1e-a27cf5ef4f21"
   },
   "outputs": [
    {
     "name": "stdout",
     "output_type": "stream",
     "text": [
      "Requirement already satisfied: gdown in /usr/local/lib/python3.10/dist-packages (4.6.6)\n",
      "Requirement already satisfied: filelock in /usr/local/lib/python3.10/dist-packages (from gdown) (3.13.1)\n",
      "Requirement already satisfied: requests[socks] in /usr/local/lib/python3.10/dist-packages (from gdown) (2.31.0)\n",
      "Requirement already satisfied: six in /usr/local/lib/python3.10/dist-packages (from gdown) (1.16.0)\n",
      "Requirement already satisfied: tqdm in /usr/local/lib/python3.10/dist-packages (from gdown) (4.66.1)\n",
      "Requirement already satisfied: beautifulsoup4 in /usr/local/lib/python3.10/dist-packages (from gdown) (4.11.2)\n",
      "Requirement already satisfied: soupsieve>1.2 in /usr/local/lib/python3.10/dist-packages (from beautifulsoup4->gdown) (2.5)\n",
      "Requirement already satisfied: charset-normalizer<4,>=2 in /usr/local/lib/python3.10/dist-packages (from requests[socks]->gdown) (3.3.2)\n",
      "Requirement already satisfied: idna<4,>=2.5 in /usr/local/lib/python3.10/dist-packages (from requests[socks]->gdown) (3.6)\n",
      "Requirement already satisfied: urllib3<3,>=1.21.1 in /usr/local/lib/python3.10/dist-packages (from requests[socks]->gdown) (2.0.7)\n",
      "Requirement already satisfied: certifi>=2017.4.17 in /usr/local/lib/python3.10/dist-packages (from requests[socks]->gdown) (2023.11.17)\n",
      "Requirement already satisfied: PySocks!=1.5.7,>=1.5.6 in /usr/local/lib/python3.10/dist-packages (from requests[socks]->gdown) (1.7.1)\n",
      "Downloading...\n",
      "From: https://drive.google.com/uc?id=1GW1pjKOCoKOlC4Jqbqql_ghYD_n0iC6O\n",
      "To: /content/BDL municipality incomes 2015-2020.csv\n",
      "100% 228k/228k [00:00<00:00, 107MB/s]\n",
      "Downloading...\n",
      "From: https://drive.google.com/uc?id=1FInZ2jrlZGNColU4sHF9JKGHP39fTVut\n",
      "To: /content/BDL municipality area km2 2015-2020.csv\n",
      "100% 180k/180k [00:00<00:00, 121MB/s]\n",
      "Downloading...\n",
      "From: https://drive.google.com/uc?id=1n1qS6dcVVKcVJOuUIIm0VTz6cSyrtzDH\n",
      "To: /content/BDL municipality population 2015-2020.csv\n",
      "100% 222k/222k [00:00<00:00, 122MB/s]\n"
     ]
    }
   ],
   "source": [
    "!pip install gdown\n",
    "!gdown https://drive.google.com/uc?id=1GW1pjKOCoKOlC4Jqbqql_ghYD_n0iC6O\n",
    "!gdown https://drive.google.com/uc?id=1FInZ2jrlZGNColU4sHF9JKGHP39fTVut\n",
    "!gdown https://drive.google.com/uc?id=1n1qS6dcVVKcVJOuUIIm0VTz6cSyrtzDH"
   ]
  },
  {
   "cell_type": "markdown",
   "metadata": {
    "id": "PbgBtcAsK6T2"
   },
   "source": [
    "## Data & library imports"
   ]
  },
  {
   "cell_type": "code",
   "execution_count": 3,
   "metadata": {
    "id": "8H2cI48aR97y"
   },
   "outputs": [],
   "source": [
    "import pandas as pd\n",
    "import plotly.express as px\n",
    "import numpy as np\n",
    "import statsmodels.api as sm\n",
    "from scipy.linalg import svd"
   ]
  },
  {
   "cell_type": "code",
   "execution_count": 5,
   "metadata": {
    "id": "5dofE7aHSGpk"
   },
   "outputs": [],
   "source": [
    "income = pd.read_csv('BDL municipality incomes 2015-2020.csv', sep=';', dtype={'Code': 'str'})\n",
    "population = pd.read_csv('BDL municipality population 2015-2020.csv', sep='\\t', dtype={'Code': 'str'})\n",
    "area = pd.read_csv('BDL municipality area km2 2015-2020.csv', sep='\\t', dtype={'Code': 'str'})"
   ]
  },
  {
   "cell_type": "code",
   "execution_count": 6,
   "metadata": {
    "id": "c4ryDcevSVBx"
   },
   "outputs": [],
   "source": [
    "voivodeship_names = {\n",
    "    '02': 'Dolnośląskie',\n",
    "    '04': 'Kujawsko-pomorskie',\n",
    "    '06': 'Lubelskie',\n",
    "    '08': 'Lubuskie',\n",
    "    '10': 'Łódzkie',\n",
    "    '12': 'Małopolskie',\n",
    "    '14': 'Mazowieckie',\n",
    "    '16': 'Opolskie',\n",
    "    '18': 'Podkarpackie',\n",
    "    '20': 'Podlaskie',\n",
    "    '22': 'Pomorskie',\n",
    "    '24': 'Śląskie',\n",
    "    '26': 'Świętokrzyskie',\n",
    "    '28': 'Warmińsko-mazurskie',\n",
    "    '30': 'Wielkopolskie',\n",
    "    '32': 'Zachodniopomorskie'\n",
    "}"
   ]
  },
  {
   "cell_type": "code",
   "execution_count": 7,
   "metadata": {
    "id": "j5-3Z6mDSVZt"
   },
   "outputs": [],
   "source": [
    "code_list = [s[:2] for s in income[\"Code\"]]\n",
    "name_list = [voivodeship_names[code] for code in code_list]\n",
    "income['Voivodeship'] = name_list"
   ]
  },
  {
   "cell_type": "markdown",
   "metadata": {
    "id": "cxWbZU5XLYCk"
   },
   "source": [
    "## Diagnostics when assumptions are satisfied"
   ]
  },
  {
   "cell_type": "markdown",
   "metadata": {
    "id": "WI3nNvJRLdEv"
   },
   "source": [
    "**Exercise 1.** In this exercise, we will inspect the diagnostics of the model when the assumptions of the linear regression model are satisfied. We will focus on the generated data from file simulated_regression.csv.\n",
    "We generated a data set with a given multidimensional distribution and correlation matrix. Our variables are not be highly correlated with each other. We consider a model in which y will be the explained variable, and A, B, C and the constant will be the independent ones.\n",
    "\n",
    "Our data are generated according to the linear model: $y = 0.4A + 0.5B + 0.5C + \\varepsilon$\n",
    "\n",
    "Inspect the descriptive statistics of the data set.\n",
    "Visualize the relationships between dependent and independent variables.\n",
    "Perform a regression of y on the constant, A, B, and C. Compare the resulting estimates (and their statistical significance) with the true values.\n",
    "\n",
    "Compute the fitted values and their confidence intervals using the `get_prediction()` function from `statsmodels`.  \n",
    "Use them to compute the residuals $\\hat{\\epsilon}_i = Y_i - X_i\\hat{\\beta}$.   \n",
    "Calculate the standardized residuals $(\\hat{\\epsilon}_i - \\text{mean}(\\hat{\\epsilon}))/\\text{sd}(\\hat{\\epsilon})$.\n",
    "\n",
    "Conduct the diagnostics of the model. Inspect the diagnostic plots and the results of the Ramsey RESET test. Note, we work with a model that satisfies the assumptions (we know the groundtruth as we work with simulated data!)."
   ]
  },
  {
   "cell_type": "markdown",
   "metadata": {
    "id": "hQAdYjQvLjKS"
   },
   "source": [
    "## Diagnostics when assumptions are not satisfied"
   ]
  },
  {
   "cell_type": "markdown",
   "metadata": {
    "id": "yjvrpWUx8qsM"
   },
   "source": [
    "**Exercise 2.**  \n",
    "\n",
    "In this exercise, we will predict the income of a municipality in 2020 based on its population and voivodeship.\n",
    "\n",
    "Create a data frame with the territorial code, income, population and voivodeships of municipalities in 2020 by using `pd.merge` to perform a join with the `Code` variable as the key. Remove rows with missing values.   \n",
    "Use the `pd.get_dummies()` function to encode the voivodeship for each municipality with dummy variables.   \n",
    "\n",
    "Estimate the model and inspect its summary.  \n",
    "Are the variables jointly significant according to the F-test?  \n",
    "Are all individual variables significant according to the t-test?\n",
    "What are the interpretations of the parameters?  \n",
    "Can you use a model with intercept in this exercise? Why / why not? If yes, what is its interpretation?\n",
    "\n",
    "Conduct the diagnostics of the model. Decide which assumptions are satisfied to an appropriate degree.  \n",
    "If you detect an outlying observation, remove it from the data set, run the calculations and diagnostics again and check if it improves the model fit.  \n",
    "\n",
    "If you detect heteroskedasticity (non-constant variance of residuals), transforming the data may help.  \n",
    "You may transform both the dependent and independent variable.  \n",
    "Transforming the latter changes the functional relationship between the variables (i.e. whether they are linearly related), while transforming the former changes both the relationship and the structure of the residual variance.  \n",
    "\n",
    "Estimate the average error in PLN that you would make if you used your model to predict the income of a municipality from its population."
   ]
  },
  {
   "cell_type": "code",
   "execution_count": null,
   "metadata": {},
   "outputs": [],
   "source": []
  },
  {
   "cell_type": "markdown",
   "metadata": {
    "id": "E4PYWS9CRvKI"
   },
   "source": [
    "## Linear regression and SVD"
   ]
  },
  {
   "cell_type": "markdown",
   "metadata": {
    "id": "wxebGBqCRA1E"
   },
   "source": [
    "The estimator of $\\beta$ is given by the equation\n",
    "$$\\hat{\\beta} = (X^TX)^{-1}X^TY.$$\n",
    "From a computational point of view, using this equation is inefficient and can lead to numerical errors.  \n",
    "A more efficient approach is based on the [Singular Value Decomposition](https://en.wikipedia.org/wiki/Singular_value_decomposition) of the $X$ matrix, given by $X = U\\Sigma V^T$.  \n",
    "We have already used the SVD decomposition to implement the Principal Component Analysis in one of the previous notebooks.   "
   ]
  },
  {
   "cell_type": "markdown",
   "metadata": {
    "id": "c2GdZaHuSNGs"
   },
   "source": [
    "**Exercise 3.** In this exercise, we will implement a linear regression method using the SVD decomposition and create a linear regression model to predict the income of a municipality in 2020 based on its population and voivodeship. Use the SVD decomposition of $X$ to obtain a more efficient formula for $\\hat{\\beta}$.  \n",
    "\n",
    "Implement a function that takes an numpy vector of dependent variables `Y` and a numpy array of independent variables `X` and, using the SVD decomposition, computes and returns the estimated regression parameters.\n",
    "\n",
    "Compare the results of your implementation with the one from `statsmodels`. You can find the relevant documentation [here](https://www.statsmodels.org/stable/examples/notebooks/generated/ols.html).  \n"
   ]
  },
  {
   "cell_type": "markdown",
   "metadata": {
    "id": "1RPazcz6RiIi"
   },
   "source": [
    "<center><img src='https://drive.google.com/uc?id=1_utx_ZGclmCwNttSe40kYA6VHzNocdET' height=\"60\">\n",
    "\n",
    "AI TECH - Akademia Innowacyjnych Zastosowań Technologii Cyfrowych. Program Operacyjny Polska Cyfrowa na lata 2014-2020\n",
    "<hr>\n",
    "\n",
    "<img src='https://drive.google.com/uc?id=1BXZ0u3562N_MqCLcekI-Ens77Kk4LpPm'>\n",
    "\n",
    "\n",
    "Projekt współfinansowany ze środków Unii Europejskiej w ramach Europejskiego Funduszu Rozwoju Regionalnego\n",
    "Program Operacyjny Polska Cyfrowa na lata 2014-2020,\n",
    "Oś Priorytetowa nr 3 \"Cyfrowe kompetencje społeczeństwa\" Działanie  nr 3.2 \"Innowacyjne rozwiązania na rzecz aktywizacji cyfrowej\".   \n",
    "Tytuł projektu:  „Akademia Innowacyjnych Zastosowań Technologii Cyfrowych (AI Tech)”\n",
    "    </center>"
   ]
  }
 ],
 "metadata": {
  "colab": {
   "provenance": []
  },
  "kernelspec": {
   "display_name": "Python 3 (ipykernel)",
   "language": "python",
   "name": "python3"
  },
  "language_info": {
   "codemirror_mode": {
    "name": "ipython",
    "version": 3
   },
   "file_extension": ".py",
   "mimetype": "text/x-python",
   "name": "python",
   "nbconvert_exporter": "python",
   "pygments_lexer": "ipython3",
   "version": "3.9.7"
  }
 },
 "nbformat": 4,
 "nbformat_minor": 1
}

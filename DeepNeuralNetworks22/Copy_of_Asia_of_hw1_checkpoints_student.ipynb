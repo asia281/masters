{
  "cells": [
    {
      "cell_type": "markdown",
      "metadata": {
        "id": "view-in-github",
        "colab_type": "text"
      },
      "source": [
        "<a href=\"https://colab.research.google.com/github/asia281/dnn2022/blob/main/Copy_of_Asia_of_hw1_checkpoints_student.ipynb\" target=\"_parent\"><img src=\"https://colab.research.google.com/assets/colab-badge.svg\" alt=\"Open In Colab\"/></a>"
      ]
    },
    {
      "cell_type": "markdown",
      "source": [
        "# Checkpointing\n",
        "\n",
        "Your task is to implement checkpointing for a MLP using NumPy.\n",
        "\n",
        "You are free to use the implementation of a MLP and the backpropagation algorithm that you have developed during lab sessions.\n",
        "\n",
        "The key takeaway from this task is that with checkpointing we can trade off the computational resources needed to compute the forward pass of the network for the memory requirement needed to perform a backward pass in the network, which is often a major bottleneck when training large networks. In plain english, we can slightly increase the time required for training our network to save some of our GPU's precious memory.\n",
        "\n",
        "## What is checkpointing?\n",
        "\n",
        "The aim of checkpointing is to save every $n$-th layer's (e.g. every 2-nd layer's) forward result (instead of saving every layer's forward result as in plain backpropagation) and use these checkpoints for recomputing the forward pass of the network upon doing a backward pass. Checkpoint layers are kept in memory after the forward pass, while the remaining activations are recomputed at most once. After being recomputed, the non-checkpoint layers are kept in memory until they are no longer required."
      ],
      "metadata": {
        "collapsed": false,
        "id": "GvE1EOcmTjb9"
      }
    },
    {
      "cell_type": "markdown",
      "source": [
        "# What should be done\n",
        "\n",
        "1. Take the implementation a MLP trained with backpropagation. Analyze the algorithm with respect to the memory that is used by the algorithm with respect to the number of hidden layers.\n",
        "\n",
        "2. Implement a class NetworkWithCheckpointing that inherits from the Network class defined during lab sessions by:\n",
        "    a) implementing a method `forward_between_checkpoints` that will recompute the forward pass of the network using one of the checkpointed layers\n",
        "    b) override the method `backprop` to use only checkpointed layers and otherwise compute the activations using `forward_between_checkpoints` method and keep it in memory until no longer needed.\n",
        "\n",
        "3. Train your network with checkpoinintg on MNIST. Compare running times and memory usage with respect to the network without checkpointing.\n"
      ],
      "metadata": {
        "collapsed": false,
        "id": "v0TLdcCnTjcC"
      }
    },
    {
      "cell_type": "markdown",
      "source": [
        "# Implement Checkpointing for a MLP"
      ],
      "metadata": {
        "collapsed": false,
        "id": "aTR2VeRiTjcD"
      }
    },
    {
      "cell_type": "code",
      "execution_count": 3,
      "outputs": [],
      "source": [
        "import random\n",
        "import numpy as np\n",
        "from torchvision import datasets, transforms"
      ],
      "metadata": {
        "id": "hnE0ZkxnTjcD"
      }
    },
    {
      "cell_type": "code",
      "execution_count": 4,
      "outputs": [
        {
          "output_type": "stream",
          "name": "stdout",
          "text": [
            "--2022-11-18 17:46:48--  https://s3.amazonaws.com/img-datasets/mnist.npz\n",
            "Resolving s3.amazonaws.com (s3.amazonaws.com)... 52.216.113.85, 3.5.19.161, 54.231.234.136, ...\n",
            "Connecting to s3.amazonaws.com (s3.amazonaws.com)|52.216.113.85|:443... connected.\n",
            "HTTP request sent, awaiting response... 200 OK\n",
            "Length: 11490434 (11M) [application/octet-stream]\n",
            "Saving to: ‘mnist.npz’\n",
            "\n",
            "mnist.npz           100%[===================>]  10.96M  17.8MB/s    in 0.6s    \n",
            "\n",
            "2022-11-18 17:46:49 (17.8 MB/s) - ‘mnist.npz’ saved [11490434/11490434]\n",
            "\n"
          ]
        }
      ],
      "source": [
        "!wget -O mnist.npz https://s3.amazonaws.com/img-datasets/mnist.npz"
      ],
      "metadata": {
        "id": "YS4zX3dFTjcF",
        "outputId": "02fd1bb9-86b2-4596-a3f8-797e28ffb7a1",
        "colab": {
          "base_uri": "https://localhost:8080/"
        }
      }
    },
    {
      "cell_type": "code",
      "execution_count": 5,
      "outputs": [],
      "source": [
        "# Let's read the mnist dataset\n",
        "\n",
        "def load_mnist(path='mnist.npz'):\n",
        "    with np.load(path) as f:\n",
        "        x_train, _y_train = f['x_train'], f['y_train']\n",
        "        x_test, _y_test = f['x_test'], f['y_test']\n",
        "\n",
        "    x_train = x_train.reshape(-1, 28 * 28) / 255.\n",
        "    x_test = x_test.reshape(-1, 28 * 28) / 255.\n",
        "\n",
        "    y_train = np.zeros((_y_train.shape[0], 10))\n",
        "    y_train[np.arange(_y_train.shape[0]), _y_train] = 1\n",
        "\n",
        "    y_test = np.zeros((_y_test.shape[0], 10))\n",
        "    y_test[np.arange(_y_test.shape[0]), _y_test] = 1\n",
        "\n",
        "    return (x_train, y_train), (x_test, y_test)\n",
        "\n",
        "(x_train, y_train), (x_test, y_test) = load_mnist()"
      ],
      "metadata": {
        "id": "D1-987dCTjcG"
      }
    },
    {
      "cell_type": "code",
      "source": [
        "def sigmoid(z):\n",
        "    return 1.0/(1.0+np.exp(-z))\n",
        "\n",
        "def sigmoid_prime(z):\n",
        "    # Derivative of the sigmoid\n",
        "    return sigmoid(z)*(1-sigmoid(z))\n",
        "\n",
        "def softmax(z):\n",
        "    # Numericaly stable\n",
        "    exps = np.exp(z - np.max(z))\n",
        "    sum = np.sum(exps, axis=0)\n",
        "    res = exps / sum\n",
        "    return res"
      ],
      "metadata": {
        "id": "CEWEdu5XVkEm"
      },
      "execution_count": 6,
      "outputs": []
    },
    {
      "cell_type": "code",
      "execution_count": 7,
      "outputs": [],
      "source": [
        "class Network(object):\n",
        "    def __init__(self, sizes, l2=0.0, momentum=0.0):\n",
        "        # initialize biases and weights with random normal distr.\n",
        "        # weights are indexed by target node first\n",
        "        self.num_layers = len(sizes)\n",
        "        self.sizes = sizes\n",
        "        self.l2 = l2\n",
        "        self.momentum = momentum\n",
        "        self.biases = [np.random.randn(y, 1) for y in sizes[1:]]\n",
        "        self.weights = [np.random.randn(y, x)\n",
        "                        for x, y in zip(sizes[:-1], sizes[1:])]\n",
        "        self.weights_accumulator= [np.zeros_like(x) for x in self.weights]\n",
        "        self.biases_accumulator = [np.zeros_like(x) for x in self.biases]\n",
        "    \n",
        "    def activation(self, z, l):\n",
        "        if l == (self.num_layers - 1):\n",
        "            return softmax(z)\n",
        "        else:\n",
        "            return sigmoid(z)\n",
        "    \n",
        "    def feedforward(self, a):\n",
        "        # Run the network on a batch\n",
        "        a = a.T\n",
        "        for l, b, w in zip(range(1, self.num_layers), self.biases, self.weights):\n",
        "          a = self.activation(np.matmul(w, a)+b, l)\n",
        "        return a\n",
        "    \n",
        "    def update_mini_batch(self, mini_batch, eta):\n",
        "        # Update networks weights and biases by applying a single step\n",
        "        # of gradient descent using backpropagation to compute the gradient.\n",
        "        # The gradient is computed for a mini_batch which is as in tensorflow API.\n",
        "        # eta is the learning rate      \n",
        "        nabla_b, nabla_w = self.backprop(mini_batch[0].T,mini_batch[1].T)\n",
        "        self.weights_accumulator = [self.momentum*w-(eta/len(mini_batch[0]))*nw \n",
        "                                    for w, nw in zip(self.weights_accumulator, nabla_w)]           \n",
        "        self.weights = [(1.0 - self.l2)*w + wa for w, wa in zip(self.weights, self.weights_accumulator)]\n",
        "        \n",
        "        self.biases_accumulator = [self.momentum*b-(eta/len(mini_batch[0]))*nb \n",
        "                       for b, nb in zip(self.biases_accumulator, nabla_b)]\n",
        "        self.biases = [b+ba for b, ba in zip(self.biases, self.biases_accumulator)]\n",
        "        \n",
        "    def backprop(self, x, y):\n",
        "        # For a single input (x,y) return a pair of lists.\n",
        "        # First contains gradients over biases, second over weights.\n",
        "        ### Dropout\n",
        "\n",
        "        g = x\n",
        "        gs = [g] # list to store all the gs, layer by layer\n",
        "        fs = [] # list to store all the fs, layer by layer\n",
        "        for l, b, w in zip(range(1, self.num_layers), self.biases, self.weights):\n",
        "            f = np.dot(w, g)+b\n",
        "            fs.append(f)\n",
        "            g = self.activation(f, l)\n",
        "            gs.append(g)\n",
        "        # backward pass <- both steps at once\n",
        "        ### we know that [logloss(softmax)]' ~= [mse]'\n",
        "        ### change dLdg to dLdf -> considering logloss and softmax as a single block\n",
        "        ### the rest of dLdf calculations can be left as they were\n",
        "        dLdf = self.cost_derivative(gs[-1], y)\n",
        "        dLdfs = []\n",
        "        for l,w,g in reversed(list(zip(range(1, self.num_layers), self.weights, gs[1:]))):\n",
        "            if l < (self.num_layers - 1):\n",
        "                dLdf = np.multiply(dLdg, np.multiply(g,1-g))\n",
        "            dLdfs.append(dLdf)\n",
        "            dLdg = np.matmul(w.T, dLdf)\n",
        "        \n",
        "        dLdWs = [np.matmul(dLdf,g.T) for dLdf,g in zip(reversed(dLdfs),gs[:-1])] \n",
        "        dLdBs = [np.sum(dLdf,axis=1).reshape(dLdf.shape[0],1) for dLdf in reversed(dLdfs)] \n",
        "\n",
        "        return (dLdBs,dLdWs)\n",
        "\n",
        "    def evaluate(self, test_data):\n",
        "        # Count the number of correct answers for test_data\n",
        "        pred = np.argmax(self.feedforward(test_data[0]),axis=0)\n",
        "        corr = np.argmax(test_data[1],axis=1).T\n",
        "        return np.mean(pred==corr)\n",
        "    \n",
        "    def cost_derivative(self, output_activations, y):\n",
        "        return (output_activations-y) \n",
        "    \n",
        "    def SGD(self, training_data, epochs, mini_batch_size, eta, test_data=None):\n",
        "        x_train, y_train = training_data\n",
        "        if test_data:\n",
        "            x_test, y_test = test_data\n",
        "        for j in range(epochs):\n",
        "            for i in range(x_train.shape[0] // mini_batch_size):\n",
        "                x_mini_batch = x_train[(mini_batch_size*i):(mini_batch_size*(i+1))]\n",
        "                y_mini_batch = y_train[(mini_batch_size*i):(mini_batch_size*(i+1))]\n",
        "                self.update_mini_batch((x_mini_batch, y_mini_batch), eta)\n",
        "            if test_data:\n",
        "                print(\"Epoch: {0}, Accuracy: {1}\".format(j, self.evaluate((x_test, y_test))))\n",
        "            else:\n",
        "                print(\"Epoch: {0}\".format(j))"
      ],
      "metadata": {
        "id": "kEvKH9BRTjcH"
      }
    },
    {
      "cell_type": "code",
      "source": [
        "network = Network([784,30,10], l2=0.001, momentum=0.7)\n",
        "network.SGD((x_train, y_train), epochs=20, mini_batch_size=100, eta=3., test_data=(x_test, y_test))"
      ],
      "metadata": {
        "colab": {
          "base_uri": "https://localhost:8080/"
        },
        "id": "zb1nhwHjX0F2",
        "outputId": "a08ca852-ac68-4531-eae3-ea7f8d346405"
      },
      "execution_count": 8,
      "outputs": [
        {
          "output_type": "stream",
          "name": "stdout",
          "text": [
            "Epoch: 0, Accuracy: 0.8968\n",
            "Epoch: 1, Accuracy: 0.919\n",
            "Epoch: 2, Accuracy: 0.9336\n",
            "Epoch: 3, Accuracy: 0.9435\n",
            "Epoch: 4, Accuracy: 0.9343\n",
            "Epoch: 5, Accuracy: 0.9408\n",
            "Epoch: 6, Accuracy: 0.9451\n",
            "Epoch: 7, Accuracy: 0.9498\n",
            "Epoch: 8, Accuracy: 0.9446\n",
            "Epoch: 9, Accuracy: 0.9337\n",
            "Epoch: 10, Accuracy: 0.9393\n",
            "Epoch: 11, Accuracy: 0.9432\n",
            "Epoch: 12, Accuracy: 0.9467\n",
            "Epoch: 13, Accuracy: 0.9493\n",
            "Epoch: 14, Accuracy: 0.9431\n",
            "Epoch: 15, Accuracy: 0.9487\n",
            "Epoch: 16, Accuracy: 0.9473\n",
            "Epoch: 17, Accuracy: 0.946\n",
            "Epoch: 18, Accuracy: 0.9349\n",
            "Epoch: 19, Accuracy: 0.9523\n"
          ]
        }
      ]
    },
    {
      "cell_type": "code",
      "source": [
        "!pip install -U memory_profiler"
      ],
      "metadata": {
        "id": "qY62cgVokLzU",
        "colab": {
          "base_uri": "https://localhost:8080/"
        },
        "outputId": "5b14ed39-b504-4133-a0c9-511fc9fa3506"
      },
      "execution_count": 9,
      "outputs": [
        {
          "output_type": "stream",
          "name": "stdout",
          "text": [
            "Looking in indexes: https://pypi.org/simple, https://us-python.pkg.dev/colab-wheels/public/simple/\n",
            "Collecting memory_profiler\n",
            "  Downloading memory_profiler-0.61.0-py3-none-any.whl (31 kB)\n",
            "Requirement already satisfied: psutil in /usr/local/lib/python3.7/dist-packages (from memory_profiler) (5.4.8)\n",
            "Installing collected packages: memory-profiler\n",
            "Successfully installed memory-profiler-0.61.0\n"
          ]
        }
      ]
    },
    {
      "cell_type": "code",
      "execution_count": 10,
      "outputs": [],
      "source": [
        "class NetworkWithCheckpointing(Network):\n",
        "    def __init__(self, sizes, checkpoint_every_nth_layer: int = 0, *args, **kwargs):\n",
        "        super().__init__(sizes, *args, **kwargs)\n",
        "        self.checkpoint_freq = checkpoint_every_nth_layer\n",
        "        self.layers_nr = len(sizes)\n",
        "\n",
        "    def get(self, d: dict, idx: int):\n",
        "      if idx in d:\n",
        "        return d[idx]\n",
        "      d[idx] = sigmoid(np.matmul(self.weights[idx - 1], self.get(d, idx - 1)) + self.biases[idx - 1])\n",
        "      return d[idx]\n",
        "\n",
        "    def delete(self, d: dict, idx: int):\n",
        "      if idx % self.checkpoint_freq != 0 and idx in d:\n",
        "        del d[idx]\n",
        "\n",
        "    def forward_between_checkpoints(self, a, start, end):\n",
        "      is_last = (end == self.layers_nr - 1)\n",
        "      if is_last:\n",
        "        end -= 1\n",
        "      for b, w in zip(self.biases[start:end], self.weights[start:end]):\n",
        "        a = sigmoid(np.dot(w, a) + b)   \n",
        "      if is_last:\n",
        "        return softmax(np.matmul(self.weights[-1], a) + self.biases[-1])\n",
        "\n",
        "      return a\n",
        "\n",
        "    def backprop(self, x, y):\n",
        "      gs = {}\n",
        "      g = x\n",
        "      gs[0] = g\n",
        "\n",
        "      for i in range(0, self.layers_nr - 1, self.checkpoint_freq):\n",
        "        end = min(self.layers_nr - 1, i + self.checkpoint_freq)\n",
        "        g = self.forward_between_checkpoints(g, i, end)\n",
        "        gs[end] = g\n",
        "      # backward pass <- both steps at once\n",
        "      idx = self.layers_nr - 1\n",
        "      dLdf = self.cost_derivative(gs[idx], y)\n",
        "      dLdfs = []\n",
        "      dLdWs = []\n",
        "      for idx, w in reversed(list(zip(range(1, self.num_layers), self.weights))):\n",
        "        if idx < (self.num_layers - 1):\n",
        "          g = self.get(gs, idx)\n",
        "          self.delete(gs, idx)\n",
        "          dLdf = np.multiply(dLdg,np.multiply(g,1-g))\n",
        "\n",
        "        dLdfs.append(dLdf)\n",
        "        dLdg = np.matmul(w.T, dLdf)\n",
        "      \n",
        "      for idx, w in enumerate(reversed(dLdfs)):\n",
        "        dLdWs.append(np.matmul(w, self.get(gs, idx).T))\n",
        "        if idx > 0:\n",
        "          self.delete(gs, idx-1)\n",
        "      \n",
        "      dLdBs = [np.sum(dLdf,axis=1).reshape(dLdf.shape[0],1) for dLdf in reversed(dLdfs)] \n",
        "      return (dLdBs, dLdWs)"
      ],
      "metadata": {
        "id": "Xc1MHTzpTjcI"
      }
    },
    {
      "cell_type": "code",
      "source": [
        "from memory_profiler import memory_usage\n",
        "%load_ext memory_profiler\n",
        "net_check = NetworkWithCheckpointing([784,30,10], 2)\n",
        "net_check.SGD((x_train, y_train), epochs=20, mini_batch_size=100, eta=3., test_data=(x_test, y_test))"
      ],
      "metadata": {
        "colab": {
          "base_uri": "https://localhost:8080/"
        },
        "id": "PTmQ8WcZh_gW",
        "outputId": "115fe0c7-48f2-4995-af15-f3e3cf393f25"
      },
      "execution_count": null,
      "outputs": [
        {
          "output_type": "stream",
          "name": "stdout",
          "text": [
            "Epoch: 0, Accuracy: 0.8917\n",
            "Epoch: 1, Accuracy: 0.9119\n",
            "Epoch: 2, Accuracy: 0.9209\n",
            "Epoch: 3, Accuracy: 0.9321\n",
            "Epoch: 4, Accuracy: 0.94\n",
            "Epoch: 5, Accuracy: 0.9425\n",
            "Epoch: 6, Accuracy: 0.9436\n",
            "Epoch: 7, Accuracy: 0.9444\n",
            "Epoch: 8, Accuracy: 0.9459\n",
            "Epoch: 9, Accuracy: 0.9465\n",
            "Epoch: 10, Accuracy: 0.9475\n",
            "Epoch: 11, Accuracy: 0.9478\n",
            "Epoch: 12, Accuracy: 0.9492\n",
            "Epoch: 13, Accuracy: 0.9494\n",
            "Epoch: 14, Accuracy: 0.949\n"
          ]
        }
      ]
    },
    {
      "cell_type": "code",
      "source": [],
      "metadata": {
        "id": "RBUG0O8igfqY"
      },
      "execution_count": null,
      "outputs": []
    }
  ],
  "metadata": {
    "kernelspec": {
      "display_name": "Python 3",
      "language": "python",
      "name": "python3"
    },
    "language_info": {
      "codemirror_mode": {
        "name": "ipython",
        "version": 2
      },
      "file_extension": ".py",
      "mimetype": "text/x-python",
      "name": "python",
      "nbconvert_exporter": "python",
      "pygments_lexer": "ipython2",
      "version": "2.7.6"
    },
    "colab": {
      "provenance": [],
      "include_colab_link": true
    }
  },
  "nbformat": 4,
  "nbformat_minor": 0
}
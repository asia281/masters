{
  "nbformat": 4,
  "nbformat_minor": 0,
  "metadata": {
    "kernelspec": {
      "name": "python3",
      "display_name": "Python 3"
    },
    "colab": {
      "provenance": [],
      "include_colab_link": true
    }
  },
  "cells": [
    {
      "cell_type": "markdown",
      "metadata": {
        "id": "view-in-github",
        "colab_type": "text"
      },
      "source": [
        "<a href=\"https://colab.research.google.com/github/asia281/dnn2022/blob/main/Asia_Bootcamp_ML%2C_Lab_3_linear_regression_student_version.ipynb\" target=\"_parent\"><img src=\"https://colab.research.google.com/assets/colab-badge.svg\" alt=\"Open In Colab\"/></a>"
      ]
    },
    {
      "cell_type": "markdown",
      "metadata": {
        "id": "PRgO4mhuPAZG"
      },
      "source": [
        "<center><img src='https://drive.google.com/uc?id=1_utx_ZGclmCwNttSe40kYA6VHzNocdET' height=\"60\"></center>\n",
        "\n",
        "AI TECH - Akademia Innowacyjnych Zastosowań Technologii Cyfrowych. Programu Operacyjnego Polska Cyfrowa na lata 2014-2020\n",
        "<hr>\n",
        "\n",
        "<center><img src='https://drive.google.com/uc?id=1BXZ0u3562N_MqCLcekI-Ens77Kk4LpPm'></center>\n",
        "\n",
        "<center>\n",
        "Projekt współfinansowany ze środków Unii Europejskiej w ramach Europejskiego Funduszu Rozwoju Regionalnego\n",
        "Program Operacyjny Polska Cyfrowa na lata 2014-2020,\n",
        "Oś Priorytetowa nr 3 \"Cyfrowe kompetencje społeczeństwa\" Działanie  nr 3.2 \"Innowacyjne rozwiązania na rzecz aktywizacji cyfrowej\"\n",
        "Tytuł projektu:  „Akademia Innowacyjnych Zastosowań Technologii Cyfrowych (AI Tech)”\n",
        "    </center>\n",
        "\n"
      ]
    },
    {
      "cell_type": "markdown",
      "metadata": {
        "id": "s47n23ty7ss5"
      },
      "source": [
        "# Simple linear regression\n",
        "\n",
        "In this exercise you will train a linear regression model via gradient descent in the simplest scenario, i.e. recreating an affine function.\n",
        "\n",
        "The setup is as follows:\n",
        "* we are given a set of pairs $(x, y)$, where $x$ represents the feature, and $y$ is the target,\n",
        "* our hypothesis is $h(x) = ax + b$,\n",
        "* we will use the dataset consisting of set of pairs to figure out the right values for $a$ and $b$,\n",
        "* to do so we will optimize the loss function: $J(a,b) = \\frac{1}{n}\\sum_{i=1}^n (y_i - h(x_i))^2$,\n",
        "* with the loss function in hand we can improve our guesses iteratively:\n",
        "    * $a^{t+1} = a^t - \\text{step_size} \\cdot \\frac{\\partial J(a,b)}{\\partial a}$,\n",
        "    * $b^{t+1} = b^t - \\text{step_size} \\cdot \\frac{\\partial J(a,b)}{\\partial b}$,\n",
        "* we can end the process after some predefined number of epochs (or when the changes are no longer meaningful).\n",
        "\n",
        "Let's start with creating the dataset."
      ]
    },
    {
      "cell_type": "code",
      "metadata": {
        "id": "hOm-6OMd7ss7"
      },
      "source": [
        "import random\n",
        "\n",
        "_a = 0.3\n",
        "_b = 0.5\n",
        "\n",
        "f = lambda x: _a * x + _b # ground truth\n",
        "g = lambda x: f(x) + random.gauss(0, 0.02) # a noisy version of f"
      ],
      "execution_count": 1,
      "outputs": []
    },
    {
      "cell_type": "code",
      "metadata": {
        "id": "2EQLIz_Y7stB"
      },
      "source": [
        "n = 50 # number of examples\n",
        "\n",
        "xs = [random.random() for _ in range(n)] # features\n",
        "ys = list(map(g, xs)) # targets\n",
        "\n",
        "ts = list(map(f, xs)) # we don't get to see this"
      ],
      "execution_count": 2,
      "outputs": []
    },
    {
      "cell_type": "markdown",
      "metadata": {
        "id": "oyIWYrek7stF"
      },
      "source": [
        "Our goal is to recreate $f$. However, as reality can be harsh (and usually is) we only get to observe $g$. We observe it as a list of pairs $(x,y) \\in \\text{zip}(xs, ys)$.\n",
        "\n",
        "Let's plot the data. We will use the `plotly` library to make the plots interactive, which allows for easier inspection of data."
      ]
    },
    {
      "cell_type": "code",
      "metadata": {
        "id": "zsP2nL2NPQYX",
        "colab": {
          "base_uri": "https://localhost:8080/"
        },
        "outputId": "3e0637cb-b895-4539-8642-c31d8b9f0e13"
      },
      "source": [
        "!pip install -q plotly==4.2.1"
      ],
      "execution_count": 3,
      "outputs": [
        {
          "output_type": "stream",
          "name": "stdout",
          "text": [
            "\u001b[2K     \u001b[90m━━━━━━━━━━━━━━━━━━━━━━━━━━━━━━━━━━━━━━━━\u001b[0m \u001b[32m7.2/7.2 MB\u001b[0m \u001b[31m52.6 MB/s\u001b[0m eta \u001b[36m0:00:00\u001b[0m\n",
            "\u001b[?25h"
          ]
        }
      ]
    },
    {
      "cell_type": "code",
      "metadata": {
        "id": "UBp8TaLJ7stH",
        "colab": {
          "base_uri": "https://localhost:8080/",
          "height": 617
        },
        "outputId": "e6742349-04d1-4269-ac7d-320fa923cb9a"
      },
      "source": [
        "import plotly.graph_objects as go\n",
        "import plotly.express as px\n",
        "\n",
        "fig = px.scatter(x=xs, y=ys)\n",
        "fig.show()"
      ],
      "execution_count": 4,
      "outputs": [
        {
          "output_type": "display_data",
          "data": {
            "text/html": [
              "<html>\n",
              "<head><meta charset=\"utf-8\" /></head>\n",
              "<body>\n",
              "    <div>\n",
              "            <script src=\"https://cdnjs.cloudflare.com/ajax/libs/mathjax/2.7.5/MathJax.js?config=TeX-AMS-MML_SVG\"></script><script type=\"text/javascript\">if (window.MathJax) {MathJax.Hub.Config({SVG: {font: \"STIX-Web\"}});}</script>\n",
              "                <script type=\"text/javascript\">window.PlotlyConfig = {MathJaxConfig: 'local'};</script>\n",
              "        <script src=\"https://cdn.plot.ly/plotly-latest.min.js\"></script>    \n",
              "            <div id=\"dcd502c7-b862-4157-a7ed-1c4e8b918837\" class=\"plotly-graph-div\" style=\"height:600px; width:100%;\"></div>\n",
              "            <script type=\"text/javascript\">\n",
              "                \n",
              "                    window.PLOTLYENV=window.PLOTLYENV || {};\n",
              "                    \n",
              "                if (document.getElementById(\"dcd502c7-b862-4157-a7ed-1c4e8b918837\")) {\n",
              "                    Plotly.newPlot(\n",
              "                        'dcd502c7-b862-4157-a7ed-1c4e8b918837',\n",
              "                        [{\"hoverlabel\": {\"namelength\": 0}, \"hovertemplate\": \"x=%{x}<br>y=%{y}\", \"legendgroup\": \"\", \"marker\": {\"color\": \"#636efa\", \"symbol\": \"circle\"}, \"mode\": \"markers\", \"name\": \"\", \"showlegend\": false, \"type\": \"scatter\", \"x\": [0.20874964673232643, 0.6876837077510252, 0.8288437236423511, 0.6451653365545335, 0.36463934216962224, 0.7628829951743639, 0.07661139017008212, 0.251918060069957, 0.7492564838226204, 0.5187720582576328, 0.9020347784934564, 0.42405976049199656, 0.05235665711940862, 0.544996589140191, 0.6588611470434436, 0.6604166108655629, 0.40053313658664125, 0.14674192182277157, 0.9160927973051813, 0.48649044414203624, 0.5024265439695897, 0.34935895248770865, 0.8171600246717211, 0.7068042985079921, 0.7279556149268426, 0.12356858083872746, 0.22232136114487622, 0.2591590016414571, 0.9771491976946203, 9.330151701369971e-05, 0.049313638245292, 0.5227336654168552, 0.30580373854707377, 0.8686477505284204, 0.910785713709112, 0.44981739241080154, 0.8448957648544361, 0.9542932281286395, 0.780396035351152, 0.01580184164986842, 0.7925104209761092, 0.28293791705028626, 0.7436579416934799, 0.13890699119100214, 0.7997706919490237, 0.6760680698294701, 0.3007264816276993, 0.12815905586603504, 0.41107908946280847, 0.3260434782246525], \"xaxis\": \"x\", \"y\": [0.5609951970374598, 0.6844983630983672, 0.7529605710093992, 0.7111957410429608, 0.5976347310289771, 0.730202133186311, 0.558224722124469, 0.5776813756045658, 0.7242540479725303, 0.6636737324939623, 0.7842830707275252, 0.6278050120268314, 0.5105217736244521, 0.6660892046060288, 0.696850622282199, 0.7112559250774503, 0.6214908540923838, 0.5323955121518693, 0.7746284217597845, 0.665932405864706, 0.6884724687564572, 0.5881887943794324, 0.7234470022366063, 0.7249735138543034, 0.691499345798875, 0.5412491970563237, 0.5139912421932928, 0.5993406123147407, 0.7887243682188959, 0.48874199135501695, 0.5285716527323271, 0.6747103102653582, 0.5725008712485893, 0.7699709418010113, 0.7690910903945622, 0.6255979874483096, 0.7726532215938428, 0.756445991010902, 0.7327071472679388, 0.5047554571308566, 0.7232407603496035, 0.5881321083337178, 0.7077696938195277, 0.564661832072659, 0.7322133445469663, 0.7036858560919574, 0.5429582163462412, 0.5586699600803962, 0.5973362148777364, 0.5753362106878344], \"yaxis\": \"y\"}],\n",
              "                        {\"height\": 600, \"legend\": {\"tracegroupgap\": 0}, \"margin\": {\"t\": 60}, \"template\": {\"data\": {\"bar\": [{\"error_x\": {\"color\": \"#2a3f5f\"}, \"error_y\": {\"color\": \"#2a3f5f\"}, \"marker\": {\"line\": {\"color\": \"#E5ECF6\", \"width\": 0.5}}, \"type\": \"bar\"}], \"barpolar\": [{\"marker\": {\"line\": {\"color\": \"#E5ECF6\", \"width\": 0.5}}, \"type\": \"barpolar\"}], \"carpet\": [{\"aaxis\": {\"endlinecolor\": \"#2a3f5f\", \"gridcolor\": \"white\", \"linecolor\": \"white\", \"minorgridcolor\": \"white\", \"startlinecolor\": \"#2a3f5f\"}, \"baxis\": {\"endlinecolor\": \"#2a3f5f\", \"gridcolor\": \"white\", \"linecolor\": \"white\", \"minorgridcolor\": \"white\", \"startlinecolor\": \"#2a3f5f\"}, \"type\": \"carpet\"}], \"choropleth\": [{\"colorbar\": {\"outlinewidth\": 0, \"ticks\": \"\"}, \"type\": \"choropleth\"}], \"contour\": [{\"colorbar\": {\"outlinewidth\": 0, \"ticks\": \"\"}, \"colorscale\": [[0.0, \"#0d0887\"], [0.1111111111111111, \"#46039f\"], [0.2222222222222222, \"#7201a8\"], [0.3333333333333333, \"#9c179e\"], [0.4444444444444444, \"#bd3786\"], [0.5555555555555556, \"#d8576b\"], [0.6666666666666666, \"#ed7953\"], [0.7777777777777778, \"#fb9f3a\"], [0.8888888888888888, \"#fdca26\"], [1.0, \"#f0f921\"]], \"type\": \"contour\"}], \"contourcarpet\": [{\"colorbar\": {\"outlinewidth\": 0, \"ticks\": \"\"}, \"type\": \"contourcarpet\"}], \"heatmap\": [{\"colorbar\": {\"outlinewidth\": 0, \"ticks\": \"\"}, \"colorscale\": [[0.0, \"#0d0887\"], [0.1111111111111111, \"#46039f\"], [0.2222222222222222, \"#7201a8\"], [0.3333333333333333, \"#9c179e\"], [0.4444444444444444, \"#bd3786\"], [0.5555555555555556, \"#d8576b\"], [0.6666666666666666, \"#ed7953\"], [0.7777777777777778, \"#fb9f3a\"], [0.8888888888888888, \"#fdca26\"], [1.0, \"#f0f921\"]], \"type\": \"heatmap\"}], \"heatmapgl\": [{\"colorbar\": {\"outlinewidth\": 0, \"ticks\": \"\"}, \"colorscale\": [[0.0, \"#0d0887\"], [0.1111111111111111, \"#46039f\"], [0.2222222222222222, \"#7201a8\"], [0.3333333333333333, \"#9c179e\"], [0.4444444444444444, \"#bd3786\"], [0.5555555555555556, \"#d8576b\"], [0.6666666666666666, \"#ed7953\"], [0.7777777777777778, \"#fb9f3a\"], [0.8888888888888888, \"#fdca26\"], [1.0, \"#f0f921\"]], \"type\": \"heatmapgl\"}], \"histogram\": [{\"marker\": {\"colorbar\": {\"outlinewidth\": 0, \"ticks\": \"\"}}, \"type\": \"histogram\"}], \"histogram2d\": [{\"colorbar\": {\"outlinewidth\": 0, \"ticks\": \"\"}, \"colorscale\": [[0.0, \"#0d0887\"], [0.1111111111111111, \"#46039f\"], [0.2222222222222222, \"#7201a8\"], [0.3333333333333333, \"#9c179e\"], [0.4444444444444444, \"#bd3786\"], [0.5555555555555556, \"#d8576b\"], [0.6666666666666666, \"#ed7953\"], [0.7777777777777778, \"#fb9f3a\"], [0.8888888888888888, \"#fdca26\"], [1.0, \"#f0f921\"]], \"type\": \"histogram2d\"}], \"histogram2dcontour\": [{\"colorbar\": {\"outlinewidth\": 0, \"ticks\": \"\"}, \"colorscale\": [[0.0, \"#0d0887\"], [0.1111111111111111, \"#46039f\"], [0.2222222222222222, \"#7201a8\"], [0.3333333333333333, \"#9c179e\"], [0.4444444444444444, \"#bd3786\"], [0.5555555555555556, \"#d8576b\"], [0.6666666666666666, \"#ed7953\"], [0.7777777777777778, \"#fb9f3a\"], [0.8888888888888888, \"#fdca26\"], [1.0, \"#f0f921\"]], \"type\": \"histogram2dcontour\"}], \"mesh3d\": [{\"colorbar\": {\"outlinewidth\": 0, \"ticks\": \"\"}, \"type\": \"mesh3d\"}], \"parcoords\": [{\"line\": {\"colorbar\": {\"outlinewidth\": 0, \"ticks\": \"\"}}, \"type\": \"parcoords\"}], \"scatter\": [{\"marker\": {\"colorbar\": {\"outlinewidth\": 0, \"ticks\": \"\"}}, \"type\": \"scatter\"}], \"scatter3d\": [{\"line\": {\"colorbar\": {\"outlinewidth\": 0, \"ticks\": \"\"}}, \"marker\": {\"colorbar\": {\"outlinewidth\": 0, \"ticks\": \"\"}}, \"type\": \"scatter3d\"}], \"scattercarpet\": [{\"marker\": {\"colorbar\": {\"outlinewidth\": 0, \"ticks\": \"\"}}, \"type\": \"scattercarpet\"}], \"scattergeo\": [{\"marker\": {\"colorbar\": {\"outlinewidth\": 0, \"ticks\": \"\"}}, \"type\": \"scattergeo\"}], \"scattergl\": [{\"marker\": {\"colorbar\": {\"outlinewidth\": 0, \"ticks\": \"\"}}, \"type\": \"scattergl\"}], \"scattermapbox\": [{\"marker\": {\"colorbar\": {\"outlinewidth\": 0, \"ticks\": \"\"}}, \"type\": \"scattermapbox\"}], \"scatterpolar\": [{\"marker\": {\"colorbar\": {\"outlinewidth\": 0, \"ticks\": \"\"}}, \"type\": \"scatterpolar\"}], \"scatterpolargl\": [{\"marker\": {\"colorbar\": {\"outlinewidth\": 0, \"ticks\": \"\"}}, \"type\": \"scatterpolargl\"}], \"scatterternary\": [{\"marker\": {\"colorbar\": {\"outlinewidth\": 0, \"ticks\": \"\"}}, \"type\": \"scatterternary\"}], \"surface\": [{\"colorbar\": {\"outlinewidth\": 0, \"ticks\": \"\"}, \"colorscale\": [[0.0, \"#0d0887\"], [0.1111111111111111, \"#46039f\"], [0.2222222222222222, \"#7201a8\"], [0.3333333333333333, \"#9c179e\"], [0.4444444444444444, \"#bd3786\"], [0.5555555555555556, \"#d8576b\"], [0.6666666666666666, \"#ed7953\"], [0.7777777777777778, \"#fb9f3a\"], [0.8888888888888888, \"#fdca26\"], [1.0, \"#f0f921\"]], \"type\": \"surface\"}], \"table\": [{\"cells\": {\"fill\": {\"color\": \"#EBF0F8\"}, \"line\": {\"color\": \"white\"}}, \"header\": {\"fill\": {\"color\": \"#C8D4E3\"}, \"line\": {\"color\": \"white\"}}, \"type\": \"table\"}]}, \"layout\": {\"annotationdefaults\": {\"arrowcolor\": \"#2a3f5f\", \"arrowhead\": 0, \"arrowwidth\": 1}, \"colorscale\": {\"diverging\": [[0, \"#8e0152\"], [0.1, \"#c51b7d\"], [0.2, \"#de77ae\"], [0.3, \"#f1b6da\"], [0.4, \"#fde0ef\"], [0.5, \"#f7f7f7\"], [0.6, \"#e6f5d0\"], [0.7, \"#b8e186\"], [0.8, \"#7fbc41\"], [0.9, \"#4d9221\"], [1, \"#276419\"]], \"sequential\": [[0.0, \"#0d0887\"], [0.1111111111111111, \"#46039f\"], [0.2222222222222222, \"#7201a8\"], [0.3333333333333333, \"#9c179e\"], [0.4444444444444444, \"#bd3786\"], [0.5555555555555556, \"#d8576b\"], [0.6666666666666666, \"#ed7953\"], [0.7777777777777778, \"#fb9f3a\"], [0.8888888888888888, \"#fdca26\"], [1.0, \"#f0f921\"]], \"sequentialminus\": [[0.0, \"#0d0887\"], [0.1111111111111111, \"#46039f\"], [0.2222222222222222, \"#7201a8\"], [0.3333333333333333, \"#9c179e\"], [0.4444444444444444, \"#bd3786\"], [0.5555555555555556, \"#d8576b\"], [0.6666666666666666, \"#ed7953\"], [0.7777777777777778, \"#fb9f3a\"], [0.8888888888888888, \"#fdca26\"], [1.0, \"#f0f921\"]]}, \"colorway\": [\"#636efa\", \"#EF553B\", \"#00cc96\", \"#ab63fa\", \"#FFA15A\", \"#19d3f3\", \"#FF6692\", \"#B6E880\", \"#FF97FF\", \"#FECB52\"], \"font\": {\"color\": \"#2a3f5f\"}, \"geo\": {\"bgcolor\": \"white\", \"lakecolor\": \"white\", \"landcolor\": \"#E5ECF6\", \"showlakes\": true, \"showland\": true, \"subunitcolor\": \"white\"}, \"hoverlabel\": {\"align\": \"left\"}, \"hovermode\": \"closest\", \"mapbox\": {\"style\": \"light\"}, \"paper_bgcolor\": \"white\", \"plot_bgcolor\": \"#E5ECF6\", \"polar\": {\"angularaxis\": {\"gridcolor\": \"white\", \"linecolor\": \"white\", \"ticks\": \"\"}, \"bgcolor\": \"#E5ECF6\", \"radialaxis\": {\"gridcolor\": \"white\", \"linecolor\": \"white\", \"ticks\": \"\"}}, \"scene\": {\"xaxis\": {\"backgroundcolor\": \"#E5ECF6\", \"gridcolor\": \"white\", \"gridwidth\": 2, \"linecolor\": \"white\", \"showbackground\": true, \"ticks\": \"\", \"zerolinecolor\": \"white\"}, \"yaxis\": {\"backgroundcolor\": \"#E5ECF6\", \"gridcolor\": \"white\", \"gridwidth\": 2, \"linecolor\": \"white\", \"showbackground\": true, \"ticks\": \"\", \"zerolinecolor\": \"white\"}, \"zaxis\": {\"backgroundcolor\": \"#E5ECF6\", \"gridcolor\": \"white\", \"gridwidth\": 2, \"linecolor\": \"white\", \"showbackground\": true, \"ticks\": \"\", \"zerolinecolor\": \"white\"}}, \"shapedefaults\": {\"line\": {\"color\": \"#2a3f5f\"}}, \"ternary\": {\"aaxis\": {\"gridcolor\": \"white\", \"linecolor\": \"white\", \"ticks\": \"\"}, \"baxis\": {\"gridcolor\": \"white\", \"linecolor\": \"white\", \"ticks\": \"\"}, \"bgcolor\": \"#E5ECF6\", \"caxis\": {\"gridcolor\": \"white\", \"linecolor\": \"white\", \"ticks\": \"\"}}, \"title\": {\"x\": 0.05}, \"xaxis\": {\"automargin\": true, \"gridcolor\": \"white\", \"linecolor\": \"white\", \"ticks\": \"\", \"zerolinecolor\": \"white\", \"zerolinewidth\": 2}, \"yaxis\": {\"automargin\": true, \"gridcolor\": \"white\", \"linecolor\": \"white\", \"ticks\": \"\", \"zerolinecolor\": \"white\", \"zerolinewidth\": 2}}}, \"xaxis\": {\"anchor\": \"y\", \"domain\": [0.0, 0.98], \"title\": {\"text\": \"x\"}}, \"yaxis\": {\"anchor\": \"x\", \"domain\": [0.0, 1.0], \"title\": {\"text\": \"y\"}}},\n",
              "                        {\"responsive\": true}\n",
              "                    ).then(function(){\n",
              "                            \n",
              "var gd = document.getElementById('dcd502c7-b862-4157-a7ed-1c4e8b918837');\n",
              "var x = new MutationObserver(function (mutations, observer) {{\n",
              "        var display = window.getComputedStyle(gd).display;\n",
              "        if (!display || display === 'none') {{\n",
              "            console.log([gd, 'removed!']);\n",
              "            Plotly.purge(gd);\n",
              "            observer.disconnect();\n",
              "        }}\n",
              "}});\n",
              "\n",
              "// Listen for the removal of the full notebook cells\n",
              "var notebookContainer = gd.closest('#notebook-container');\n",
              "if (notebookContainer) {{\n",
              "    x.observe(notebookContainer, {childList: true});\n",
              "}}\n",
              "\n",
              "// Listen for the clearing of the current output cell\n",
              "var outputEl = gd.closest('.output');\n",
              "if (outputEl) {{\n",
              "    x.observe(outputEl, {childList: true});\n",
              "}}\n",
              "\n",
              "                        })\n",
              "                };\n",
              "                \n",
              "            </script>\n",
              "        </div>\n",
              "</body>\n",
              "</html>"
            ]
          },
          "metadata": {}
        }
      ]
    },
    {
      "cell_type": "code",
      "metadata": {
        "id": "nRqybzzs7stM"
      },
      "source": [
        "import numpy as np\n",
        "\n",
        "def mse_loss(ys, ps):\n",
        "    assert len(ys) == len(ps)\n",
        "\n",
        "    ### YOUR CODE BEGINS HERE ###\n",
        "    errs = [(y - ps[idx]) ** 2 for idx, y in enumerate(ys)]\n",
        "    return np.mean(np.array(errs))\n",
        "    ### YOUR CODE ENDS HERE ###"
      ],
      "execution_count": 5,
      "outputs": []
    },
    {
      "cell_type": "markdown",
      "metadata": {
        "id": "ofYLNJM87stQ"
      },
      "source": [
        "Please take a while to (roughly) guess the output before executing the cell below."
      ]
    },
    {
      "cell_type": "code",
      "metadata": {
        "id": "CMavAdN77stR",
        "colab": {
          "base_uri": "https://localhost:8080/"
        },
        "outputId": "b554948b-afcf-4052-a41b-998db846acbe"
      },
      "source": [
        "mse_loss(ys, ts)"
      ],
      "execution_count": 6,
      "outputs": [
        {
          "output_type": "execute_result",
          "data": {
            "text/plain": [
              "0.000337226119959387"
            ]
          },
          "metadata": {},
          "execution_count": 6
        }
      ]
    },
    {
      "cell_type": "markdown",
      "metadata": {
        "id": "RTRbX1tm7stV"
      },
      "source": [
        "Let's now implement the algorithm\n",
        "\n",
        "Hint: To make sure that you correctly compute the gradients, you can compute them numerically and compare the results."
      ]
    },
    {
      "cell_type": "code",
      "metadata": {
        "id": "ChxX0fEL7stW",
        "colab": {
          "base_uri": "https://localhost:8080/"
        },
        "outputId": "745d803e-b9d1-4f98-912f-f8d8af49986b"
      },
      "source": [
        "a = 0. # our initial guess for _a\n",
        "b = 0. # our initial guess for _b\n",
        "lr = 0.5 # step size\n",
        "\n",
        "n_epochs = 40 # number of passes over the training data\n",
        "\n",
        "def predict(a, b, xs=xs):\n",
        "    return [a * x + b for x in xs]\n",
        "\n",
        "def evaluate(a, b, xs=xs, ys=ys):\n",
        "    return mse_loss(ys, predict(a, b, xs))\n",
        "\n",
        "losses = [evaluate(a, b)]\n",
        "\n",
        "for i in range(n_epochs):\n",
        "    #############################\n",
        "    # TODO: Fill in the details #\n",
        "    #############################\n",
        "    ### YOUR CODE BEGINS HERE ###\n",
        "    f = predict(a, b)\n",
        "    sub = np.subtract(ys, f)\n",
        "    sum = np.sum(sub)\n",
        "    d_b = -2 * sum / len(xs)\n",
        "    sum_x = np.sum(np.multiply(xs, sub))\n",
        "    d_a = -2 * sum_x / len(xs)\n",
        "    print(f'a: {d_a}, b: {d_b}')\n",
        "\n",
        "    a -= d_a * lr\n",
        "    b -= d_b * lr\n",
        "    ### YOUR CODE ENDS HERE ###\n",
        "\n",
        "    loss = evaluate(a, b)\n",
        "    losses.append(loss)\n",
        "\n",
        "    print(f'Iter: {i:>3} Loss: {loss:8.8f} a: {a:8.5f}, b: {b:8.5f}')"
      ],
      "execution_count": 7,
      "outputs": [
        {
          "output_type": "stream",
          "name": "stdout",
          "text": [
            "a: -0.7068885455539622, b: -1.3000884328430606\n",
            "Iter:   0 Loss: 0.03252587 a:  0.35344, b:  0.65004\n",
            "a: 0.19013658841805087, b: 0.35733855530170877\n",
            "Iter:   1 Loss: 0.00276636 a:  0.25838, b:  0.47137\n",
            "a: -0.05500693201782262, b: -0.096115765692677\n",
            "Iter:   2 Loss: 0.00053687 a:  0.28588, b:  0.51943\n",
            "a: 0.012242082497624665, b: 0.027806501806341016\n",
            "Iter:   3 Loss: 0.00036738 a:  0.27976, b:  0.50553\n",
            "a: -0.0059675987757117745, b: -0.006188483461925798\n",
            "Iter:   4 Loss: 0.00035236 a:  0.28274, b:  0.50862\n",
            "a: -0.0008146996991895714, b: 0.003016675172550527\n",
            "Iter:   5 Loss: 0.00034918 a:  0.28315, b:  0.50712\n",
            "a: -0.0020632616631165446, b: 0.00041183806887838513\n",
            "Iter:   6 Loss: 0.00034716 a:  0.28418, b:  0.50691\n",
            "a: -0.001571468371391089, b: 0.001042997437919504\n",
            "Iter:   7 Loss: 0.00034545 a:  0.28497, b:  0.50639\n",
            "a: -0.0015655774072129407, b: 0.0007943914794871842\n",
            "Iter:   8 Loss: 0.00034396 a:  0.28575, b:  0.50599\n",
            "a: -0.0014360124474822244, b: 0.0007914135437970993\n",
            "Iter:   9 Loss: 0.00034266 a:  0.28647, b:  0.50560\n",
            "a: -0.001348898260374379, b: 0.0007259172844233896\n",
            "Iter:  10 Loss: 0.00034152 a:  0.28714, b:  0.50523\n",
            "a: -0.00125822943889029, b: 0.0006818802746809994\n",
            "Iter:  11 Loss: 0.00034053 a:  0.28777, b:  0.50489\n",
            "a: -0.0011760597714222554, b: 0.0006360463651009329\n",
            "Iter:  12 Loss: 0.00033967 a:  0.28836, b:  0.50457\n",
            "a: -0.0010985974899324178, b: 0.0005945088547715915\n",
            "Iter:  13 Loss: 0.00033891 a:  0.28891, b:  0.50428\n",
            "a: -0.001026417437605568, b: 0.0005553509706440262\n",
            "Iter:  14 Loss: 0.00033826 a:  0.28942, b:  0.50400\n",
            "a: -0.0009589304904854581, b: 0.000518863301148933\n",
            "Iter:  15 Loss: 0.00033768 a:  0.28990, b:  0.50374\n",
            "a: -0.0008958942856073868, b: 0.00048474803879617224\n",
            "Iter:  16 Loss: 0.00033718 a:  0.29035, b:  0.50350\n",
            "a: -0.0008369981395688232, b: 0.00045288266691482\n",
            "Iter:  17 Loss: 0.00033674 a:  0.29077, b:  0.50327\n",
            "a: -0.0007819748379838767, b: 0.00042311013223362615\n",
            "Iter:  18 Loss: 0.00033636 a:  0.29116, b:  0.50306\n",
            "a: -0.0007305684296413603, b: 0.0003952953554629923\n",
            "Iter:  19 Loss: 0.00033603 a:  0.29152, b:  0.50286\n",
            "a: -0.000682541513412144, b: 0.00036930895095006023\n",
            "Iter:  20 Loss: 0.00033573 a:  0.29187, b:  0.50268\n",
            "a: -0.0006376718231421144, b: 0.0003450309102760318\n",
            "Iter:  21 Loss: 0.00033548 a:  0.29218, b:  0.50250\n",
            "a: -0.0005957518332444464, b: 0.0003223488758892179\n",
            "Iter:  22 Loss: 0.00033526 a:  0.29248, b:  0.50234\n",
            "a: -0.0005565876254044444, b: 0.00030115794172769217\n",
            "Iter:  23 Loss: 0.00033506 a:  0.29276, b:  0.50219\n",
            "a: -0.00051999803897832, b: 0.00028136008032904504\n",
            "Iter:  24 Loss: 0.00033490 a:  0.29302, b:  0.50205\n",
            "a: -0.00048581382002608727, b: 0.0002628637133490219\n",
            "Iter:  25 Loss: 0.00033475 a:  0.29326, b:  0.50192\n",
            "a: -0.00045387684193674393, b: 0.00024558328138938544\n",
            "Iter:  26 Loss: 0.00033462 a:  0.29349, b:  0.50180\n",
            "a: -0.0004240393730076, b: 0.00022943885001763586\n",
            "Iter:  27 Loss: 0.00033451 a:  0.29370, b:  0.50168\n",
            "a: -0.0003961633933436039, b: 0.00021435573952155896\n",
            "Iter:  28 Loss: 0.00033441 a:  0.29390, b:  0.50158\n",
            "a: -0.0003701199563428897, b: 0.00020026417959549735\n",
            "Iter:  29 Loss: 0.00033432 a:  0.29409, b:  0.50147\n",
            "a: -0.0003457885922451585, b: 0.00018709898656545486\n",
            "Iter:  30 Loss: 0.00033425 a:  0.29426, b:  0.50138\n",
            "a: -0.0003230567508661783, b: 0.0001747992618777161\n",
            "Iter:  31 Loss: 0.00033418 a:  0.29442, b:  0.50129\n",
            "a: -0.0003018192809732773, b: 0.00016330811039601213\n",
            "Iter:  32 Loss: 0.00033413 a:  0.29457, b:  0.50121\n",
            "a: -0.00028197794388447816, b: 0.00015257237722063888\n",
            "Iter:  33 Loss: 0.00033408 a:  0.29471, b:  0.50114\n",
            "a: -0.0002634409590431503, b: 0.00014254240180913146\n",
            "Iter:  34 Loss: 0.00033403 a:  0.29484, b:  0.50106\n",
            "a: -0.0002461225794667166, b: 0.0001331717882598271\n",
            "Iter:  35 Loss: 0.00033400 a:  0.29497, b:  0.50100\n",
            "a: -0.00022994269510471274, b: 0.00012441719069715253\n",
            "Iter:  36 Loss: 0.00033396 a:  0.29508, b:  0.50094\n",
            "a: -0.00021482646227175158, b: 0.00011623811276573193\n",
            "Iter:  37 Loss: 0.00033393 a:  0.29519, b:  0.50088\n",
            "a: -0.000200703957441057, b: 0.00010859672030565371\n",
            "Iter:  38 Loss: 0.00033391 a:  0.29529, b:  0.50082\n",
            "a: -0.00018750985379795991, b: 0.00010145766634139352\n",
            "Iter:  39 Loss: 0.00033389 a:  0.29538, b:  0.50077\n"
          ]
        }
      ]
    },
    {
      "cell_type": "code",
      "metadata": {
        "id": "pdR0279A7stZ",
        "colab": {
          "base_uri": "https://localhost:8080/",
          "height": 617
        },
        "outputId": "9344e123-0c98-48cc-f903-459df47d3e7d"
      },
      "source": [
        "fig = px.line(y=losses, labels={'y':'loss'})\n",
        "fig.show()"
      ],
      "execution_count": 8,
      "outputs": [
        {
          "output_type": "display_data",
          "data": {
            "text/html": [
              "<html>\n",
              "<head><meta charset=\"utf-8\" /></head>\n",
              "<body>\n",
              "    <div>\n",
              "            <script src=\"https://cdnjs.cloudflare.com/ajax/libs/mathjax/2.7.5/MathJax.js?config=TeX-AMS-MML_SVG\"></script><script type=\"text/javascript\">if (window.MathJax) {MathJax.Hub.Config({SVG: {font: \"STIX-Web\"}});}</script>\n",
              "                <script type=\"text/javascript\">window.PlotlyConfig = {MathJaxConfig: 'local'};</script>\n",
              "        <script src=\"https://cdn.plot.ly/plotly-latest.min.js\"></script>    \n",
              "            <div id=\"47f49133-35f9-41f3-8b93-31d3c3e96f58\" class=\"plotly-graph-div\" style=\"height:600px; width:100%;\"></div>\n",
              "            <script type=\"text/javascript\">\n",
              "                \n",
              "                    window.PLOTLYENV=window.PLOTLYENV || {};\n",
              "                    \n",
              "                if (document.getElementById(\"47f49133-35f9-41f3-8b93-31d3c3e96f58\")) {\n",
              "                    Plotly.newPlot(\n",
              "                        '47f49133-35f9-41f3-8b93-31d3c3e96f58',\n",
              "                        [{\"hoverlabel\": {\"namelength\": 0}, \"hovertemplate\": \"loss=%{y}\", \"legendgroup\": \"\", \"line\": {\"color\": \"#636efa\", \"dash\": \"solid\"}, \"mode\": \"lines\", \"name\": \"\", \"showlegend\": false, \"type\": \"scatter\", \"xaxis\": \"x\", \"y\": [0.43026193517206485, 0.032525872610142115, 0.0027663560819380043, 0.0005368659887759407, 0.0003673824354016518, 0.00035235675559701964, 0.0003491849093394374, 0.000347160270394029, 0.0003454487303555294, 0.000343958987540315, 0.0003426589868879441, 0.0003415243132381354, 0.00034053392260655264, 0.0003396694668381751, 0.00033891493235982075, 0.0003382563419419142, 0.0003376814956606096, 0.0003371797448938606, 0.0003367417950625359, 0.0003363595334548443, 0.0003360258789440695, 0.00033573465081568685, 0.00033548045427398836, 0.00033525858050729377, 0.00033506491946053754, 0.00033489588369939506, 0.00033474834195559286, 0.00033461956112237125, 0.0003345071556256084, 0.0003344090432327439, 0.0003343234064808878, 0.00033424865900960095, 0.00033418341617468824, 0.00033412646939864253, 0.0003340767637825943, 0.0003340333785650584, 0.0003339955100654742, 0.00033396245679659153, 0.00033393360646991353, 0.00033390842465348214, 0.00033388644487190666], \"yaxis\": \"y\"}],\n",
              "                        {\"height\": 600, \"legend\": {\"tracegroupgap\": 0}, \"margin\": {\"t\": 60}, \"template\": {\"data\": {\"bar\": [{\"error_x\": {\"color\": \"#2a3f5f\"}, \"error_y\": {\"color\": \"#2a3f5f\"}, \"marker\": {\"line\": {\"color\": \"#E5ECF6\", \"width\": 0.5}}, \"type\": \"bar\"}], \"barpolar\": [{\"marker\": {\"line\": {\"color\": \"#E5ECF6\", \"width\": 0.5}}, \"type\": \"barpolar\"}], \"carpet\": [{\"aaxis\": {\"endlinecolor\": \"#2a3f5f\", \"gridcolor\": \"white\", \"linecolor\": \"white\", \"minorgridcolor\": \"white\", \"startlinecolor\": \"#2a3f5f\"}, \"baxis\": {\"endlinecolor\": \"#2a3f5f\", \"gridcolor\": \"white\", \"linecolor\": \"white\", \"minorgridcolor\": \"white\", \"startlinecolor\": \"#2a3f5f\"}, \"type\": \"carpet\"}], \"choropleth\": [{\"colorbar\": {\"outlinewidth\": 0, \"ticks\": \"\"}, \"type\": \"choropleth\"}], \"contour\": [{\"colorbar\": {\"outlinewidth\": 0, \"ticks\": \"\"}, \"colorscale\": [[0.0, \"#0d0887\"], [0.1111111111111111, \"#46039f\"], [0.2222222222222222, \"#7201a8\"], [0.3333333333333333, \"#9c179e\"], [0.4444444444444444, \"#bd3786\"], [0.5555555555555556, \"#d8576b\"], [0.6666666666666666, \"#ed7953\"], [0.7777777777777778, \"#fb9f3a\"], [0.8888888888888888, \"#fdca26\"], [1.0, \"#f0f921\"]], \"type\": \"contour\"}], \"contourcarpet\": [{\"colorbar\": {\"outlinewidth\": 0, \"ticks\": \"\"}, \"type\": \"contourcarpet\"}], \"heatmap\": [{\"colorbar\": {\"outlinewidth\": 0, \"ticks\": \"\"}, \"colorscale\": [[0.0, \"#0d0887\"], [0.1111111111111111, \"#46039f\"], [0.2222222222222222, \"#7201a8\"], [0.3333333333333333, \"#9c179e\"], [0.4444444444444444, \"#bd3786\"], [0.5555555555555556, \"#d8576b\"], [0.6666666666666666, \"#ed7953\"], [0.7777777777777778, \"#fb9f3a\"], [0.8888888888888888, \"#fdca26\"], [1.0, \"#f0f921\"]], \"type\": \"heatmap\"}], \"heatmapgl\": [{\"colorbar\": {\"outlinewidth\": 0, \"ticks\": \"\"}, \"colorscale\": [[0.0, \"#0d0887\"], [0.1111111111111111, \"#46039f\"], [0.2222222222222222, \"#7201a8\"], [0.3333333333333333, \"#9c179e\"], [0.4444444444444444, \"#bd3786\"], [0.5555555555555556, \"#d8576b\"], [0.6666666666666666, \"#ed7953\"], [0.7777777777777778, \"#fb9f3a\"], [0.8888888888888888, \"#fdca26\"], [1.0, \"#f0f921\"]], \"type\": \"heatmapgl\"}], \"histogram\": [{\"marker\": {\"colorbar\": {\"outlinewidth\": 0, \"ticks\": \"\"}}, \"type\": \"histogram\"}], \"histogram2d\": [{\"colorbar\": {\"outlinewidth\": 0, \"ticks\": \"\"}, \"colorscale\": [[0.0, \"#0d0887\"], [0.1111111111111111, \"#46039f\"], [0.2222222222222222, \"#7201a8\"], [0.3333333333333333, \"#9c179e\"], [0.4444444444444444, \"#bd3786\"], [0.5555555555555556, \"#d8576b\"], [0.6666666666666666, \"#ed7953\"], [0.7777777777777778, \"#fb9f3a\"], [0.8888888888888888, \"#fdca26\"], [1.0, \"#f0f921\"]], \"type\": \"histogram2d\"}], \"histogram2dcontour\": [{\"colorbar\": {\"outlinewidth\": 0, \"ticks\": \"\"}, \"colorscale\": [[0.0, \"#0d0887\"], [0.1111111111111111, \"#46039f\"], [0.2222222222222222, \"#7201a8\"], [0.3333333333333333, \"#9c179e\"], [0.4444444444444444, \"#bd3786\"], [0.5555555555555556, \"#d8576b\"], [0.6666666666666666, \"#ed7953\"], [0.7777777777777778, \"#fb9f3a\"], [0.8888888888888888, \"#fdca26\"], [1.0, \"#f0f921\"]], \"type\": \"histogram2dcontour\"}], \"mesh3d\": [{\"colorbar\": {\"outlinewidth\": 0, \"ticks\": \"\"}, \"type\": \"mesh3d\"}], \"parcoords\": [{\"line\": {\"colorbar\": {\"outlinewidth\": 0, \"ticks\": \"\"}}, \"type\": \"parcoords\"}], \"scatter\": [{\"marker\": {\"colorbar\": {\"outlinewidth\": 0, \"ticks\": \"\"}}, \"type\": \"scatter\"}], \"scatter3d\": [{\"line\": {\"colorbar\": {\"outlinewidth\": 0, \"ticks\": \"\"}}, \"marker\": {\"colorbar\": {\"outlinewidth\": 0, \"ticks\": \"\"}}, \"type\": \"scatter3d\"}], \"scattercarpet\": [{\"marker\": {\"colorbar\": {\"outlinewidth\": 0, \"ticks\": \"\"}}, \"type\": \"scattercarpet\"}], \"scattergeo\": [{\"marker\": {\"colorbar\": {\"outlinewidth\": 0, \"ticks\": \"\"}}, \"type\": \"scattergeo\"}], \"scattergl\": [{\"marker\": {\"colorbar\": {\"outlinewidth\": 0, \"ticks\": \"\"}}, \"type\": \"scattergl\"}], \"scattermapbox\": [{\"marker\": {\"colorbar\": {\"outlinewidth\": 0, \"ticks\": \"\"}}, \"type\": \"scattermapbox\"}], \"scatterpolar\": [{\"marker\": {\"colorbar\": {\"outlinewidth\": 0, \"ticks\": \"\"}}, \"type\": \"scatterpolar\"}], \"scatterpolargl\": [{\"marker\": {\"colorbar\": {\"outlinewidth\": 0, \"ticks\": \"\"}}, \"type\": \"scatterpolargl\"}], \"scatterternary\": [{\"marker\": {\"colorbar\": {\"outlinewidth\": 0, \"ticks\": \"\"}}, \"type\": \"scatterternary\"}], \"surface\": [{\"colorbar\": {\"outlinewidth\": 0, \"ticks\": \"\"}, \"colorscale\": [[0.0, \"#0d0887\"], [0.1111111111111111, \"#46039f\"], [0.2222222222222222, \"#7201a8\"], [0.3333333333333333, \"#9c179e\"], [0.4444444444444444, \"#bd3786\"], [0.5555555555555556, \"#d8576b\"], [0.6666666666666666, \"#ed7953\"], [0.7777777777777778, \"#fb9f3a\"], [0.8888888888888888, \"#fdca26\"], [1.0, \"#f0f921\"]], \"type\": \"surface\"}], \"table\": [{\"cells\": {\"fill\": {\"color\": \"#EBF0F8\"}, \"line\": {\"color\": \"white\"}}, \"header\": {\"fill\": {\"color\": \"#C8D4E3\"}, \"line\": {\"color\": \"white\"}}, \"type\": \"table\"}]}, \"layout\": {\"annotationdefaults\": {\"arrowcolor\": \"#2a3f5f\", \"arrowhead\": 0, \"arrowwidth\": 1}, \"colorscale\": {\"diverging\": [[0, \"#8e0152\"], [0.1, \"#c51b7d\"], [0.2, \"#de77ae\"], [0.3, \"#f1b6da\"], [0.4, \"#fde0ef\"], [0.5, \"#f7f7f7\"], [0.6, \"#e6f5d0\"], [0.7, \"#b8e186\"], [0.8, \"#7fbc41\"], [0.9, \"#4d9221\"], [1, \"#276419\"]], \"sequential\": [[0.0, \"#0d0887\"], [0.1111111111111111, \"#46039f\"], [0.2222222222222222, \"#7201a8\"], [0.3333333333333333, \"#9c179e\"], [0.4444444444444444, \"#bd3786\"], [0.5555555555555556, \"#d8576b\"], [0.6666666666666666, \"#ed7953\"], [0.7777777777777778, \"#fb9f3a\"], [0.8888888888888888, \"#fdca26\"], [1.0, \"#f0f921\"]], \"sequentialminus\": [[0.0, \"#0d0887\"], [0.1111111111111111, \"#46039f\"], [0.2222222222222222, \"#7201a8\"], [0.3333333333333333, \"#9c179e\"], [0.4444444444444444, \"#bd3786\"], [0.5555555555555556, \"#d8576b\"], [0.6666666666666666, \"#ed7953\"], [0.7777777777777778, \"#fb9f3a\"], [0.8888888888888888, \"#fdca26\"], [1.0, \"#f0f921\"]]}, \"colorway\": [\"#636efa\", \"#EF553B\", \"#00cc96\", \"#ab63fa\", \"#FFA15A\", \"#19d3f3\", \"#FF6692\", \"#B6E880\", \"#FF97FF\", \"#FECB52\"], \"font\": {\"color\": \"#2a3f5f\"}, \"geo\": {\"bgcolor\": \"white\", \"lakecolor\": \"white\", \"landcolor\": \"#E5ECF6\", \"showlakes\": true, \"showland\": true, \"subunitcolor\": \"white\"}, \"hoverlabel\": {\"align\": \"left\"}, \"hovermode\": \"closest\", \"mapbox\": {\"style\": \"light\"}, \"paper_bgcolor\": \"white\", \"plot_bgcolor\": \"#E5ECF6\", \"polar\": {\"angularaxis\": {\"gridcolor\": \"white\", \"linecolor\": \"white\", \"ticks\": \"\"}, \"bgcolor\": \"#E5ECF6\", \"radialaxis\": {\"gridcolor\": \"white\", \"linecolor\": \"white\", \"ticks\": \"\"}}, \"scene\": {\"xaxis\": {\"backgroundcolor\": \"#E5ECF6\", \"gridcolor\": \"white\", \"gridwidth\": 2, \"linecolor\": \"white\", \"showbackground\": true, \"ticks\": \"\", \"zerolinecolor\": \"white\"}, \"yaxis\": {\"backgroundcolor\": \"#E5ECF6\", \"gridcolor\": \"white\", \"gridwidth\": 2, \"linecolor\": \"white\", \"showbackground\": true, \"ticks\": \"\", \"zerolinecolor\": \"white\"}, \"zaxis\": {\"backgroundcolor\": \"#E5ECF6\", \"gridcolor\": \"white\", \"gridwidth\": 2, \"linecolor\": \"white\", \"showbackground\": true, \"ticks\": \"\", \"zerolinecolor\": \"white\"}}, \"shapedefaults\": {\"line\": {\"color\": \"#2a3f5f\"}}, \"ternary\": {\"aaxis\": {\"gridcolor\": \"white\", \"linecolor\": \"white\", \"ticks\": \"\"}, \"baxis\": {\"gridcolor\": \"white\", \"linecolor\": \"white\", \"ticks\": \"\"}, \"bgcolor\": \"#E5ECF6\", \"caxis\": {\"gridcolor\": \"white\", \"linecolor\": \"white\", \"ticks\": \"\"}}, \"title\": {\"x\": 0.05}, \"xaxis\": {\"automargin\": true, \"gridcolor\": \"white\", \"linecolor\": \"white\", \"ticks\": \"\", \"zerolinecolor\": \"white\", \"zerolinewidth\": 2}, \"yaxis\": {\"automargin\": true, \"gridcolor\": \"white\", \"linecolor\": \"white\", \"ticks\": \"\", \"zerolinecolor\": \"white\", \"zerolinewidth\": 2}}}, \"xaxis\": {\"anchor\": \"y\", \"domain\": [0.0, 0.98]}, \"yaxis\": {\"anchor\": \"x\", \"domain\": [0.0, 1.0], \"title\": {\"text\": \"loss\"}}},\n",
              "                        {\"responsive\": true}\n",
              "                    ).then(function(){\n",
              "                            \n",
              "var gd = document.getElementById('47f49133-35f9-41f3-8b93-31d3c3e96f58');\n",
              "var x = new MutationObserver(function (mutations, observer) {{\n",
              "        var display = window.getComputedStyle(gd).display;\n",
              "        if (!display || display === 'none') {{\n",
              "            console.log([gd, 'removed!']);\n",
              "            Plotly.purge(gd);\n",
              "            observer.disconnect();\n",
              "        }}\n",
              "}});\n",
              "\n",
              "// Listen for the removal of the full notebook cells\n",
              "var notebookContainer = gd.closest('#notebook-container');\n",
              "if (notebookContainer) {{\n",
              "    x.observe(notebookContainer, {childList: true});\n",
              "}}\n",
              "\n",
              "// Listen for the clearing of the current output cell\n",
              "var outputEl = gd.closest('.output');\n",
              "if (outputEl) {{\n",
              "    x.observe(outputEl, {childList: true});\n",
              "}}\n",
              "\n",
              "                        })\n",
              "                };\n",
              "                \n",
              "            </script>\n",
              "        </div>\n",
              "</body>\n",
              "</html>"
            ]
          },
          "metadata": {}
        }
      ]
    },
    {
      "cell_type": "markdown",
      "metadata": {
        "id": "J7c_9F8u7stc"
      },
      "source": [
        "Let's now visually asses how we do on training data"
      ]
    },
    {
      "cell_type": "code",
      "metadata": {
        "id": "GH34w_867std",
        "colab": {
          "base_uri": "https://localhost:8080/",
          "height": 617
        },
        "outputId": "3e1b82b2-9f45-49ad-c251-9dc1f2162669"
      },
      "source": [
        "fig = go.Figure()\n",
        "\n",
        "fig = px.scatter(x=xs, y=ys)\n",
        "dense_x = np.linspace(np.min(xs), np.max(xs), 100)\n",
        "fig.add_trace(go.Scatter(x=dense_x, y=predict(a, b, dense_x), name='linear fit', mode='lines'))\n",
        "fig.add_trace(go.Scatter(x=xs, y=ts, name='y without noise', mode='markers'))\n",
        "\n",
        "fig.show()"
      ],
      "execution_count": 9,
      "outputs": [
        {
          "output_type": "display_data",
          "data": {
            "text/html": [
              "<html>\n",
              "<head><meta charset=\"utf-8\" /></head>\n",
              "<body>\n",
              "    <div>\n",
              "            <script src=\"https://cdnjs.cloudflare.com/ajax/libs/mathjax/2.7.5/MathJax.js?config=TeX-AMS-MML_SVG\"></script><script type=\"text/javascript\">if (window.MathJax) {MathJax.Hub.Config({SVG: {font: \"STIX-Web\"}});}</script>\n",
              "                <script type=\"text/javascript\">window.PlotlyConfig = {MathJaxConfig: 'local'};</script>\n",
              "        <script src=\"https://cdn.plot.ly/plotly-latest.min.js\"></script>    \n",
              "            <div id=\"01e72d9d-8a86-4437-ad2a-bd94bf6f4b8c\" class=\"plotly-graph-div\" style=\"height:600px; width:100%;\"></div>\n",
              "            <script type=\"text/javascript\">\n",
              "                \n",
              "                    window.PLOTLYENV=window.PLOTLYENV || {};\n",
              "                    \n",
              "                if (document.getElementById(\"01e72d9d-8a86-4437-ad2a-bd94bf6f4b8c\")) {\n",
              "                    Plotly.newPlot(\n",
              "                        '01e72d9d-8a86-4437-ad2a-bd94bf6f4b8c',\n",
              "                        [{\"hoverlabel\": {\"namelength\": 0}, \"hovertemplate\": \"x=%{x}<br>y=%{y}\", \"legendgroup\": \"\", \"marker\": {\"color\": \"#636efa\", \"symbol\": \"circle\"}, \"mode\": \"markers\", \"name\": \"\", \"showlegend\": false, \"type\": \"scatter\", \"x\": [0.20874964673232643, 0.6876837077510252, 0.8288437236423511, 0.6451653365545335, 0.36463934216962224, 0.7628829951743639, 0.07661139017008212, 0.251918060069957, 0.7492564838226204, 0.5187720582576328, 0.9020347784934564, 0.42405976049199656, 0.05235665711940862, 0.544996589140191, 0.6588611470434436, 0.6604166108655629, 0.40053313658664125, 0.14674192182277157, 0.9160927973051813, 0.48649044414203624, 0.5024265439695897, 0.34935895248770865, 0.8171600246717211, 0.7068042985079921, 0.7279556149268426, 0.12356858083872746, 0.22232136114487622, 0.2591590016414571, 0.9771491976946203, 9.330151701369971e-05, 0.049313638245292, 0.5227336654168552, 0.30580373854707377, 0.8686477505284204, 0.910785713709112, 0.44981739241080154, 0.8448957648544361, 0.9542932281286395, 0.780396035351152, 0.01580184164986842, 0.7925104209761092, 0.28293791705028626, 0.7436579416934799, 0.13890699119100214, 0.7997706919490237, 0.6760680698294701, 0.3007264816276993, 0.12815905586603504, 0.41107908946280847, 0.3260434782246525], \"xaxis\": \"x\", \"y\": [0.5609951970374598, 0.6844983630983672, 0.7529605710093992, 0.7111957410429608, 0.5976347310289771, 0.730202133186311, 0.558224722124469, 0.5776813756045658, 0.7242540479725303, 0.6636737324939623, 0.7842830707275252, 0.6278050120268314, 0.5105217736244521, 0.6660892046060288, 0.696850622282199, 0.7112559250774503, 0.6214908540923838, 0.5323955121518693, 0.7746284217597845, 0.665932405864706, 0.6884724687564572, 0.5881887943794324, 0.7234470022366063, 0.7249735138543034, 0.691499345798875, 0.5412491970563237, 0.5139912421932928, 0.5993406123147407, 0.7887243682188959, 0.48874199135501695, 0.5285716527323271, 0.6747103102653582, 0.5725008712485893, 0.7699709418010113, 0.7690910903945622, 0.6255979874483096, 0.7726532215938428, 0.756445991010902, 0.7327071472679388, 0.5047554571308566, 0.7232407603496035, 0.5881321083337178, 0.7077696938195277, 0.564661832072659, 0.7322133445469663, 0.7036858560919574, 0.5429582163462412, 0.5586699600803962, 0.5973362148777364, 0.5753362106878344], \"yaxis\": \"y\"}, {\"mode\": \"lines\", \"name\": \"linear fit\", \"type\": \"scatter\", \"x\": [9.330151701369971e-05, 0.00996255299355518, 0.01983180447009666, 0.02970105594663814, 0.03957030742317962, 0.049439558899721105, 0.05930881037626258, 0.06917806185280406, 0.07904731332934554, 0.08891656480588703, 0.09878581628242851, 0.10865506775896999, 0.11852431923551146, 0.12839357071205296, 0.13826282218859443, 0.14813207366513592, 0.1580013251416774, 0.16787057661821886, 0.17773982809476035, 0.18760907957130182, 0.19747833104784332, 0.2073475825243848, 0.21721683400092628, 0.22708608547746775, 0.23695533695400922, 0.24682458843055072, 0.2566938399070922, 0.26656309138363365, 0.27643234286017515, 0.28630159433671665, 0.29617084581325814, 0.3060400972897996, 0.3159093487663411, 0.3257786002428826, 0.335647851719424, 0.3455171031959655, 0.355386354672507, 0.3652556061490485, 0.37512485762558995, 0.38499410910213144, 0.39486336057867294, 0.4047326120552144, 0.4146018635317559, 0.4244711150082974, 0.43434036648483887, 0.4442096179613803, 0.4540788694379218, 0.4639481209144633, 0.47381737239100474, 0.48368662386754624, 0.49355587534408774, 0.5034251268206292, 0.5132943782971707, 0.5231636297737122, 0.5330328812502536, 0.5429021327267951, 0.5527713842033366, 0.5626406356798781, 0.5725098871564196, 0.5823791386329611, 0.5922483901095026, 0.602117641586044, 0.6119868930625855, 0.621856144539127, 0.6317253960156685, 0.64159464749221, 0.6514638989687515, 0.661333150445293, 0.6712024019218343, 0.6810716533983758, 0.6909409048749173, 0.7008101563514588, 0.7106794078280003, 0.7205486593045418, 0.7304179107810833, 0.7402871622576247, 0.7501564137341662, 0.7600256652107077, 0.7698949166872492, 0.7797641681637907, 0.7896334196403322, 0.7995026711168737, 0.8093719225934151, 0.8192411740699566, 0.829110425546498, 0.8389796770230395, 0.848848928499581, 0.8587181799761225, 0.868587431452664, 0.8784566829292054, 0.8883259344057469, 0.8981951858822884, 0.9080644373588299, 0.9179336888353714, 0.9278029403119129, 0.9376721917884544, 0.9475414432649958, 0.9574106947415373, 0.9672799462180788, 0.9771491976946203], \"y\": [0.5008004550719521, 0.5037156629318722, 0.5066308707917923, 0.5095460786517123, 0.5124612865116324, 0.5153764943715524, 0.5182917022314725, 0.5212069100913925, 0.5241221179513126, 0.5270373258112326, 0.5299525336711527, 0.5328677415310727, 0.5357829493909928, 0.5386981572509129, 0.5416133651108329, 0.544528572970753, 0.547443780830673, 0.5503589886905931, 0.5532741965505131, 0.5561894044104332, 0.5591046122703532, 0.5620198201302733, 0.5649350279901934, 0.5678502358501134, 0.5707654437100335, 0.5736806515699535, 0.5765958594298736, 0.5795110672897936, 0.5824262751497137, 0.5853414830096337, 0.5882566908695538, 0.5911718987294738, 0.5940871065893939, 0.597002314449314, 0.599917522309234, 0.6028327301691541, 0.6057479380290741, 0.6086631458889942, 0.6115783537489142, 0.6144935616088343, 0.6174087694687543, 0.6203239773286744, 0.6232391851885944, 0.6261543930485145, 0.6290696009084346, 0.6319848087683546, 0.6349000166282747, 0.6378152244881947, 0.6407304323481148, 0.6436456402080348, 0.6465608480679549, 0.6494760559278749, 0.652391263787795, 0.655306471647715, 0.6582216795076351, 0.6611368873675552, 0.6640520952274752, 0.6669673030873953, 0.6698825109473153, 0.6727977188072354, 0.6757129266671554, 0.6786281345270755, 0.6815433423869955, 0.6844585502469156, 0.6873737581068357, 0.6902889659667557, 0.6932041738266758, 0.6961193816865958, 0.6990345895465159, 0.7019497974064359, 0.704865005266356, 0.707780213126276, 0.7106954209861961, 0.7136106288461161, 0.7165258367060362, 0.7194410445659563, 0.7223562524258763, 0.7252714602857964, 0.7281866681457164, 0.7311018760056365, 0.7340170838655565, 0.7369322917254766, 0.7398474995853966, 0.7427627074453167, 0.7456779153052367, 0.7485931231651568, 0.7515083310250769, 0.7544235388849969, 0.757338746744917, 0.760253954604837, 0.763169162464757, 0.7660843703246771, 0.7689995781845972, 0.7719147860445172, 0.7748299939044373, 0.7777452017643574, 0.7806604096242773, 0.7835756174841975, 0.7864908253441174, 0.7894060332040376]}, {\"mode\": \"markers\", \"name\": \"y without noise\", \"type\": \"scatter\", \"x\": [0.20874964673232643, 0.6876837077510252, 0.8288437236423511, 0.6451653365545335, 0.36463934216962224, 0.7628829951743639, 0.07661139017008212, 0.251918060069957, 0.7492564838226204, 0.5187720582576328, 0.9020347784934564, 0.42405976049199656, 0.05235665711940862, 0.544996589140191, 0.6588611470434436, 0.6604166108655629, 0.40053313658664125, 0.14674192182277157, 0.9160927973051813, 0.48649044414203624, 0.5024265439695897, 0.34935895248770865, 0.8171600246717211, 0.7068042985079921, 0.7279556149268426, 0.12356858083872746, 0.22232136114487622, 0.2591590016414571, 0.9771491976946203, 9.330151701369971e-05, 0.049313638245292, 0.5227336654168552, 0.30580373854707377, 0.8686477505284204, 0.910785713709112, 0.44981739241080154, 0.8448957648544361, 0.9542932281286395, 0.780396035351152, 0.01580184164986842, 0.7925104209761092, 0.28293791705028626, 0.7436579416934799, 0.13890699119100214, 0.7997706919490237, 0.6760680698294701, 0.3007264816276993, 0.12815905586603504, 0.41107908946280847, 0.3260434782246525], \"y\": [0.562624894019698, 0.7063051123253076, 0.7486531170927053, 0.69354960096636, 0.6093918026508867, 0.7288648985523092, 0.5229834170510246, 0.5755754180209871, 0.7247769451467861, 0.6556316174772898, 0.7706104335480368, 0.6272179281475989, 0.5157069971358226, 0.6634989767420573, 0.6976583441130331, 0.6981249832596689, 0.6201599409759924, 0.5440225765468315, 0.7748278391915544, 0.6459471332426109, 0.6507279631908769, 0.6048076857463126, 0.7451480074015163, 0.7120412895523976, 0.7183866844780528, 0.5370705742516182, 0.5666964083434629, 0.5777477004924372, 0.793144759308386, 0.5000279904551042, 0.5147940914735876, 0.6568200996250566, 0.5917411215641222, 0.7605943251585261, 0.7732357141127335, 0.6349452177232404, 0.7534687294563308, 0.7862879684385918, 0.7341188106053456, 0.5047405524949605, 0.7377531262928327, 0.5848813751150859, 0.723097382508044, 0.5416720973573006, 0.7399312075847071, 0.702820420948841, 0.5902179444883098, 0.5384477167598105, 0.6233237268388425, 0.5978130434673957]}],\n",
              "                        {\"height\": 600, \"legend\": {\"tracegroupgap\": 0}, \"margin\": {\"t\": 60}, \"template\": {\"data\": {\"bar\": [{\"error_x\": {\"color\": \"#2a3f5f\"}, \"error_y\": {\"color\": \"#2a3f5f\"}, \"marker\": {\"line\": {\"color\": \"#E5ECF6\", \"width\": 0.5}}, \"type\": \"bar\"}], \"barpolar\": [{\"marker\": {\"line\": {\"color\": \"#E5ECF6\", \"width\": 0.5}}, \"type\": \"barpolar\"}], \"carpet\": [{\"aaxis\": {\"endlinecolor\": \"#2a3f5f\", \"gridcolor\": \"white\", \"linecolor\": \"white\", \"minorgridcolor\": \"white\", \"startlinecolor\": \"#2a3f5f\"}, \"baxis\": {\"endlinecolor\": \"#2a3f5f\", \"gridcolor\": \"white\", \"linecolor\": \"white\", \"minorgridcolor\": \"white\", \"startlinecolor\": \"#2a3f5f\"}, \"type\": \"carpet\"}], \"choropleth\": [{\"colorbar\": {\"outlinewidth\": 0, \"ticks\": \"\"}, \"type\": \"choropleth\"}], \"contour\": [{\"colorbar\": {\"outlinewidth\": 0, \"ticks\": \"\"}, \"colorscale\": [[0.0, \"#0d0887\"], [0.1111111111111111, \"#46039f\"], [0.2222222222222222, \"#7201a8\"], [0.3333333333333333, \"#9c179e\"], [0.4444444444444444, \"#bd3786\"], [0.5555555555555556, \"#d8576b\"], [0.6666666666666666, \"#ed7953\"], [0.7777777777777778, \"#fb9f3a\"], [0.8888888888888888, \"#fdca26\"], [1.0, \"#f0f921\"]], \"type\": \"contour\"}], \"contourcarpet\": [{\"colorbar\": {\"outlinewidth\": 0, \"ticks\": \"\"}, \"type\": \"contourcarpet\"}], \"heatmap\": [{\"colorbar\": {\"outlinewidth\": 0, \"ticks\": \"\"}, \"colorscale\": [[0.0, \"#0d0887\"], [0.1111111111111111, \"#46039f\"], [0.2222222222222222, \"#7201a8\"], [0.3333333333333333, \"#9c179e\"], [0.4444444444444444, \"#bd3786\"], [0.5555555555555556, \"#d8576b\"], [0.6666666666666666, \"#ed7953\"], [0.7777777777777778, \"#fb9f3a\"], [0.8888888888888888, \"#fdca26\"], [1.0, \"#f0f921\"]], \"type\": \"heatmap\"}], \"heatmapgl\": [{\"colorbar\": {\"outlinewidth\": 0, \"ticks\": \"\"}, \"colorscale\": [[0.0, \"#0d0887\"], [0.1111111111111111, \"#46039f\"], [0.2222222222222222, \"#7201a8\"], [0.3333333333333333, \"#9c179e\"], [0.4444444444444444, \"#bd3786\"], [0.5555555555555556, \"#d8576b\"], [0.6666666666666666, \"#ed7953\"], [0.7777777777777778, \"#fb9f3a\"], [0.8888888888888888, \"#fdca26\"], [1.0, \"#f0f921\"]], \"type\": \"heatmapgl\"}], \"histogram\": [{\"marker\": {\"colorbar\": {\"outlinewidth\": 0, \"ticks\": \"\"}}, \"type\": \"histogram\"}], \"histogram2d\": [{\"colorbar\": {\"outlinewidth\": 0, \"ticks\": \"\"}, \"colorscale\": [[0.0, \"#0d0887\"], [0.1111111111111111, \"#46039f\"], [0.2222222222222222, \"#7201a8\"], [0.3333333333333333, \"#9c179e\"], [0.4444444444444444, \"#bd3786\"], [0.5555555555555556, \"#d8576b\"], [0.6666666666666666, \"#ed7953\"], [0.7777777777777778, \"#fb9f3a\"], [0.8888888888888888, \"#fdca26\"], [1.0, \"#f0f921\"]], \"type\": \"histogram2d\"}], \"histogram2dcontour\": [{\"colorbar\": {\"outlinewidth\": 0, \"ticks\": \"\"}, \"colorscale\": [[0.0, \"#0d0887\"], [0.1111111111111111, \"#46039f\"], [0.2222222222222222, \"#7201a8\"], [0.3333333333333333, \"#9c179e\"], [0.4444444444444444, \"#bd3786\"], [0.5555555555555556, \"#d8576b\"], [0.6666666666666666, \"#ed7953\"], [0.7777777777777778, \"#fb9f3a\"], [0.8888888888888888, \"#fdca26\"], [1.0, \"#f0f921\"]], \"type\": \"histogram2dcontour\"}], \"mesh3d\": [{\"colorbar\": {\"outlinewidth\": 0, \"ticks\": \"\"}, \"type\": \"mesh3d\"}], \"parcoords\": [{\"line\": {\"colorbar\": {\"outlinewidth\": 0, \"ticks\": \"\"}}, \"type\": \"parcoords\"}], \"scatter\": [{\"marker\": {\"colorbar\": {\"outlinewidth\": 0, \"ticks\": \"\"}}, \"type\": \"scatter\"}], \"scatter3d\": [{\"line\": {\"colorbar\": {\"outlinewidth\": 0, \"ticks\": \"\"}}, \"marker\": {\"colorbar\": {\"outlinewidth\": 0, \"ticks\": \"\"}}, \"type\": \"scatter3d\"}], \"scattercarpet\": [{\"marker\": {\"colorbar\": {\"outlinewidth\": 0, \"ticks\": \"\"}}, \"type\": \"scattercarpet\"}], \"scattergeo\": [{\"marker\": {\"colorbar\": {\"outlinewidth\": 0, \"ticks\": \"\"}}, \"type\": \"scattergeo\"}], \"scattergl\": [{\"marker\": {\"colorbar\": {\"outlinewidth\": 0, \"ticks\": \"\"}}, \"type\": \"scattergl\"}], \"scattermapbox\": [{\"marker\": {\"colorbar\": {\"outlinewidth\": 0, \"ticks\": \"\"}}, \"type\": \"scattermapbox\"}], \"scatterpolar\": [{\"marker\": {\"colorbar\": {\"outlinewidth\": 0, \"ticks\": \"\"}}, \"type\": \"scatterpolar\"}], \"scatterpolargl\": [{\"marker\": {\"colorbar\": {\"outlinewidth\": 0, \"ticks\": \"\"}}, \"type\": \"scatterpolargl\"}], \"scatterternary\": [{\"marker\": {\"colorbar\": {\"outlinewidth\": 0, \"ticks\": \"\"}}, \"type\": \"scatterternary\"}], \"surface\": [{\"colorbar\": {\"outlinewidth\": 0, \"ticks\": \"\"}, \"colorscale\": [[0.0, \"#0d0887\"], [0.1111111111111111, \"#46039f\"], [0.2222222222222222, \"#7201a8\"], [0.3333333333333333, \"#9c179e\"], [0.4444444444444444, \"#bd3786\"], [0.5555555555555556, \"#d8576b\"], [0.6666666666666666, \"#ed7953\"], [0.7777777777777778, \"#fb9f3a\"], [0.8888888888888888, \"#fdca26\"], [1.0, \"#f0f921\"]], \"type\": \"surface\"}], \"table\": [{\"cells\": {\"fill\": {\"color\": \"#EBF0F8\"}, \"line\": {\"color\": \"white\"}}, \"header\": {\"fill\": {\"color\": \"#C8D4E3\"}, \"line\": {\"color\": \"white\"}}, \"type\": \"table\"}]}, \"layout\": {\"annotationdefaults\": {\"arrowcolor\": \"#2a3f5f\", \"arrowhead\": 0, \"arrowwidth\": 1}, \"colorscale\": {\"diverging\": [[0, \"#8e0152\"], [0.1, \"#c51b7d\"], [0.2, \"#de77ae\"], [0.3, \"#f1b6da\"], [0.4, \"#fde0ef\"], [0.5, \"#f7f7f7\"], [0.6, \"#e6f5d0\"], [0.7, \"#b8e186\"], [0.8, \"#7fbc41\"], [0.9, \"#4d9221\"], [1, \"#276419\"]], \"sequential\": [[0.0, \"#0d0887\"], [0.1111111111111111, \"#46039f\"], [0.2222222222222222, \"#7201a8\"], [0.3333333333333333, \"#9c179e\"], [0.4444444444444444, \"#bd3786\"], [0.5555555555555556, \"#d8576b\"], [0.6666666666666666, \"#ed7953\"], [0.7777777777777778, \"#fb9f3a\"], [0.8888888888888888, \"#fdca26\"], [1.0, \"#f0f921\"]], \"sequentialminus\": [[0.0, \"#0d0887\"], [0.1111111111111111, \"#46039f\"], [0.2222222222222222, \"#7201a8\"], [0.3333333333333333, \"#9c179e\"], [0.4444444444444444, \"#bd3786\"], [0.5555555555555556, \"#d8576b\"], [0.6666666666666666, \"#ed7953\"], [0.7777777777777778, \"#fb9f3a\"], [0.8888888888888888, \"#fdca26\"], [1.0, \"#f0f921\"]]}, \"colorway\": [\"#636efa\", \"#EF553B\", \"#00cc96\", \"#ab63fa\", \"#FFA15A\", \"#19d3f3\", \"#FF6692\", \"#B6E880\", \"#FF97FF\", \"#FECB52\"], \"font\": {\"color\": \"#2a3f5f\"}, \"geo\": {\"bgcolor\": \"white\", \"lakecolor\": \"white\", \"landcolor\": \"#E5ECF6\", \"showlakes\": true, \"showland\": true, \"subunitcolor\": \"white\"}, \"hoverlabel\": {\"align\": \"left\"}, \"hovermode\": \"closest\", \"mapbox\": {\"style\": \"light\"}, \"paper_bgcolor\": \"white\", \"plot_bgcolor\": \"#E5ECF6\", \"polar\": {\"angularaxis\": {\"gridcolor\": \"white\", \"linecolor\": \"white\", \"ticks\": \"\"}, \"bgcolor\": \"#E5ECF6\", \"radialaxis\": {\"gridcolor\": \"white\", \"linecolor\": \"white\", \"ticks\": \"\"}}, \"scene\": {\"xaxis\": {\"backgroundcolor\": \"#E5ECF6\", \"gridcolor\": \"white\", \"gridwidth\": 2, \"linecolor\": \"white\", \"showbackground\": true, \"ticks\": \"\", \"zerolinecolor\": \"white\"}, \"yaxis\": {\"backgroundcolor\": \"#E5ECF6\", \"gridcolor\": \"white\", \"gridwidth\": 2, \"linecolor\": \"white\", \"showbackground\": true, \"ticks\": \"\", \"zerolinecolor\": \"white\"}, \"zaxis\": {\"backgroundcolor\": \"#E5ECF6\", \"gridcolor\": \"white\", \"gridwidth\": 2, \"linecolor\": \"white\", \"showbackground\": true, \"ticks\": \"\", \"zerolinecolor\": \"white\"}}, \"shapedefaults\": {\"line\": {\"color\": \"#2a3f5f\"}}, \"ternary\": {\"aaxis\": {\"gridcolor\": \"white\", \"linecolor\": \"white\", \"ticks\": \"\"}, \"baxis\": {\"gridcolor\": \"white\", \"linecolor\": \"white\", \"ticks\": \"\"}, \"bgcolor\": \"#E5ECF6\", \"caxis\": {\"gridcolor\": \"white\", \"linecolor\": \"white\", \"ticks\": \"\"}}, \"title\": {\"x\": 0.05}, \"xaxis\": {\"automargin\": true, \"gridcolor\": \"white\", \"linecolor\": \"white\", \"ticks\": \"\", \"zerolinecolor\": \"white\", \"zerolinewidth\": 2}, \"yaxis\": {\"automargin\": true, \"gridcolor\": \"white\", \"linecolor\": \"white\", \"ticks\": \"\", \"zerolinecolor\": \"white\", \"zerolinewidth\": 2}}}, \"xaxis\": {\"anchor\": \"y\", \"domain\": [0.0, 0.98], \"title\": {\"text\": \"x\"}}, \"yaxis\": {\"anchor\": \"x\", \"domain\": [0.0, 1.0], \"title\": {\"text\": \"y\"}}},\n",
              "                        {\"responsive\": true}\n",
              "                    ).then(function(){\n",
              "                            \n",
              "var gd = document.getElementById('01e72d9d-8a86-4437-ad2a-bd94bf6f4b8c');\n",
              "var x = new MutationObserver(function (mutations, observer) {{\n",
              "        var display = window.getComputedStyle(gd).display;\n",
              "        if (!display || display === 'none') {{\n",
              "            console.log([gd, 'removed!']);\n",
              "            Plotly.purge(gd);\n",
              "            observer.disconnect();\n",
              "        }}\n",
              "}});\n",
              "\n",
              "// Listen for the removal of the full notebook cells\n",
              "var notebookContainer = gd.closest('#notebook-container');\n",
              "if (notebookContainer) {{\n",
              "    x.observe(notebookContainer, {childList: true});\n",
              "}}\n",
              "\n",
              "// Listen for the clearing of the current output cell\n",
              "var outputEl = gd.closest('.output');\n",
              "if (outputEl) {{\n",
              "    x.observe(outputEl, {childList: true});\n",
              "}}\n",
              "\n",
              "                        })\n",
              "                };\n",
              "                \n",
              "            </script>\n",
              "        </div>\n",
              "</body>\n",
              "</html>"
            ]
          },
          "metadata": {}
        }
      ]
    },
    {
      "cell_type": "markdown",
      "metadata": {
        "id": "dlW25Mnq7sth"
      },
      "source": [
        "Let's check our implementation vs. the one in sklearn and numpy.\n"
      ]
    },
    {
      "cell_type": "code",
      "metadata": {
        "id": "0r6GSafQ7sti",
        "colab": {
          "base_uri": "https://localhost:8080/"
        },
        "outputId": "0b79fb0f-562f-4c0a-eaa4-77e6acf909bf"
      },
      "source": [
        "from sklearn.linear_model import LinearRegression\n",
        "import numpy as np\n",
        "\n",
        "X = np.array(xs).reshape((len(xs), 1))\n",
        "regr = LinearRegression()\n",
        "regr.fit(X, ys) # training\n",
        "\n",
        "sk_a = float(regr.coef_)\n",
        "sk_b = regr.intercept_\n",
        "sk_loss = mse_loss(ys, regr.predict(X))\n",
        "\n",
        "print(f'Loss: {sk_loss:8.8f} a: {sk_a:8.5f}, b: {sk_b:8.5f}')"
      ],
      "execution_count": 10,
      "outputs": [
        {
          "output_type": "stream",
          "name": "stdout",
          "text": [
            "Loss: 0.00033374 a:  0.29672, b:  0.50005\n"
          ]
        }
      ]
    },
    {
      "cell_type": "code",
      "source": [
        "from sklearn.linear_model import LinearRegression\n",
        "import numpy\n",
        "regression = LinearRegression()\n",
        "x = numpy.array(xs).reshape(-1, 1)\n",
        "regression.fit(x, ys)\n",
        "sk_a = regression.coef_\n",
        "sk_b = regression.intercept_\n",
        "sk_loss = mse_loss(ys, regression.predict(X))\n",
        "\n",
        "print(f'Loss: {sk_loss:8.8f} a: {sk_a}, b: {sk_b:8.5f}')"
      ],
      "metadata": {
        "colab": {
          "base_uri": "https://localhost:8080/"
        },
        "id": "Zsjelfqdp2k_",
        "outputId": "06c92c1c-b0fe-4cc0-ac73-145d5e4d8401"
      },
      "execution_count": 11,
      "outputs": [
        {
          "output_type": "stream",
          "name": "stdout",
          "text": [
            "Loss: 0.00033374 a: [0.29671528], b:  0.50005\n"
          ]
        }
      ]
    },
    {
      "cell_type": "code",
      "metadata": {
        "id": "LYTJMBV2eybu",
        "colab": {
          "base_uri": "https://localhost:8080/"
        },
        "outputId": "f707cdd8-0afb-4546-e4c9-3f7e749dbdaf"
      },
      "source": [
        "z = np.polyfit(x=xs, y=ys, deg=1)\n",
        "print(z)\n",
        "f = np.poly1d(z)\n",
        "print(f)"
      ],
      "execution_count": 12,
      "outputs": [
        {
          "output_type": "stream",
          "name": "stdout",
          "text": [
            "[0.29671528 0.50005196]\n",
            " \n",
            "0.2967 x + 0.5001\n"
          ]
        }
      ]
    },
    {
      "cell_type": "markdown",
      "metadata": {
        "id": "8GsLRyMxPIoU"
      },
      "source": [
        "<center><img src='https://drive.google.com/uc?id=1BXZ0u3562N_MqCLcekI-Ens77Kk4LpPm'></center>"
      ]
    }
  ]
}
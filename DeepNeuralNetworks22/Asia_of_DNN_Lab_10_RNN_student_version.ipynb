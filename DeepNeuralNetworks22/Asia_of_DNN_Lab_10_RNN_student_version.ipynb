{
  "nbformat": 4,
  "nbformat_minor": 0,
  "metadata": {
    "colab": {
      "provenance": [],
      "include_colab_link": true
    },
    "kernelspec": {
      "name": "python3",
      "display_name": "Python 3"
    },
    "language_info": {
      "name": "python"
    }
  },
  "cells": [
    {
      "cell_type": "markdown",
      "metadata": {
        "id": "view-in-github",
        "colab_type": "text"
      },
      "source": [
        "<a href=\"https://colab.research.google.com/github/asia281/dnn2022/blob/main/Asia_of_DNN_Lab_10_RNN_student_version.ipynb\" target=\"_parent\"><img src=\"https://colab.research.google.com/assets/colab-badge.svg\" alt=\"Open In Colab\"/></a>"
      ]
    },
    {
      "cell_type": "markdown",
      "source": [
        "<center><img src='https://drive.google.com/uc?id=1_utx_ZGclmCwNttSe40kYA6VHzNocdET' height=\"60\"></center>\n",
        "\n",
        "AI TECH - Akademia Innowacyjnych Zastosowań Technologii Cyfrowych. Program Operacyjny Polska Cyfrowa na lata 2014-2020\n",
        "<hr>\n",
        "\n",
        "<center><img src='https://drive.google.com/uc?id=1BXZ0u3562N_MqCLcekI-Ens77Kk4LpPm'></center>\n",
        "\n",
        "<center>\n",
        "Projekt współfinansowany ze środków Unii Europejskiej w ramach Europejskiego Funduszu Rozwoju Regionalnego \n",
        "Program Operacyjny Polska Cyfrowa na lata 2014-2020,\n",
        "Oś Priorytetowa nr 3 \"Cyfrowe kompetencje społeczeństwa\" Działanie  nr 3.2 \"Innowacyjne rozwiązania na rzecz aktywizacji cyfrowej\" \n",
        "Tytuł projektu:  „Akademia Innowacyjnych Zastosowań Technologii Cyfrowych (AI Tech)”\n",
        "    </center>"
      ],
      "metadata": {
        "id": "8esP9SxN0Gy0"
      }
    },
    {
      "cell_type": "markdown",
      "metadata": {
        "id": "zAh8AAYKyGaZ"
      },
      "source": [
        "# TL;DR\n",
        "\n",
        "1. In this lab scenario you will have a chance to compare performance of the classic RNN and LSTM on a toy example. \n",
        "2. This toy example will show that maintaining memory over even 20 steps is non-trivial. \n",
        "3. Finally, you will see how curriculum learning may allow to train a model on larger sequences.\n",
        "\n",
        "# Problem definition\n",
        "\n",
        "Here we consider a toy example, where the goal is to discriminate between two types of binary sequences:\n",
        "* [Type 0] a sequence with exactly one zero (remaining entries are equal to one).\n",
        "* [Type 1] a sequence full of ones,\n",
        "\n",
        "We are especially interested in the performance of the trained models on discriminating between a sequence full of ones versus a sequence with leading zero followed by ones. Note that in this case the goal of the model is to output the first element of the sequence, as the label (sequence type) is fully determined by the first element of the sequence."
      ]
    },
    {
      "cell_type": "markdown",
      "metadata": {
        "id": "w89kJcvtzNRm"
      },
      "source": [
        "#Implementation"
      ]
    },
    {
      "cell_type": "markdown",
      "metadata": {
        "id": "1WyKOni1OEiS"
      },
      "source": [
        "## Importing torch\n",
        "\n",
        "Install `torch` and `torchvision`"
      ]
    },
    {
      "cell_type": "code",
      "metadata": {
        "colab": {
          "base_uri": "https://localhost:8080/"
        },
        "id": "lFlmFfiPN1hI",
        "outputId": "442edc80-c6d2-42ce-b978-88401a818770"
      },
      "source": [
        "!pip3 install torch torchvision"
      ],
      "execution_count": 23,
      "outputs": [
        {
          "output_type": "stream",
          "name": "stdout",
          "text": [
            "Looking in indexes: https://pypi.org/simple, https://us-python.pkg.dev/colab-wheels/public/simple/\n",
            "Requirement already satisfied: torch in /usr/local/lib/python3.8/dist-packages (1.13.0+cu116)\n",
            "Requirement already satisfied: torchvision in /usr/local/lib/python3.8/dist-packages (0.14.0+cu116)\n",
            "Requirement already satisfied: typing-extensions in /usr/local/lib/python3.8/dist-packages (from torch) (4.4.0)\n",
            "Requirement already satisfied: requests in /usr/local/lib/python3.8/dist-packages (from torchvision) (2.25.1)\n",
            "Requirement already satisfied: numpy in /usr/local/lib/python3.8/dist-packages (from torchvision) (1.21.6)\n",
            "Requirement already satisfied: pillow!=8.3.*,>=5.3.0 in /usr/local/lib/python3.8/dist-packages (from torchvision) (7.1.2)\n",
            "Requirement already satisfied: certifi>=2017.4.17 in /usr/local/lib/python3.8/dist-packages (from requests->torchvision) (2022.12.7)\n",
            "Requirement already satisfied: urllib3<1.27,>=1.21.1 in /usr/local/lib/python3.8/dist-packages (from requests->torchvision) (1.24.3)\n",
            "Requirement already satisfied: chardet<5,>=3.0.2 in /usr/local/lib/python3.8/dist-packages (from requests->torchvision) (4.0.0)\n",
            "Requirement already satisfied: idna<3,>=2.5 in /usr/local/lib/python3.8/dist-packages (from requests->torchvision) (2.10)\n"
          ]
        }
      ]
    },
    {
      "cell_type": "code",
      "metadata": {
        "colab": {
          "base_uri": "https://localhost:8080/"
        },
        "id": "kRYUIgJLOa6X",
        "outputId": "f31b3f80-3ba2-41d3-c8ce-d046272d330e"
      },
      "source": [
        "import torch\n",
        "import torch.nn as nn\n",
        "import torch.optim as optim\n",
        "import torch.nn.functional as F\n",
        "\n",
        "torch.manual_seed(1)"
      ],
      "execution_count": 24,
      "outputs": [
        {
          "output_type": "execute_result",
          "data": {
            "text/plain": [
              "<torch._C.Generator at 0x7fa60225ef70>"
            ]
          },
          "metadata": {},
          "execution_count": 24
        }
      ]
    },
    {
      "cell_type": "markdown",
      "metadata": {
        "id": "eMfnsxS4zdp9"
      },
      "source": [
        "## Understand dimensionality\n",
        "\n",
        "Check the input and output specification [LSTM](https://pytorch.org/docs/stable/generated/torch.nn.LSTM.html) and [RNN](https://pytorch.org/docs/stable/generated/torch.nn.RNN.html). The following snippet shows how we can process\n",
        "a sequence by LSTM and output a vector of size `hidden_dim` after reading\n",
        "each token of the sequence. "
      ]
    },
    {
      "cell_type": "code",
      "metadata": {
        "colab": {
          "base_uri": "https://localhost:8080/"
        },
        "id": "s_MMm1AaObmg",
        "outputId": "663837da-48f6-4d6f-c580-d32dd59bc050"
      },
      "source": [
        "hidden_dim = 5\n",
        "lstm = nn.LSTM(1, hidden_dim)  # Input sequence contains elements - vectors of size 1\n",
        "\n",
        "# create a random sequence\n",
        "sequence = [torch.randn(1) for _ in range(10)]\n",
        "\n",
        "# initialize the hidden state (including cell state)\n",
        "hidden = (torch.zeros(1, 1, 5),\n",
        "          torch.zeros(1, 1, 5))\n",
        "\n",
        "for i, elem in enumerate(sequence):\n",
        "  # we are processing only a single element of the sequence, and there\n",
        "  # is only one sample (sequence) in the batch, the third one\n",
        "  # corresponds to the fact that our sequence contains elemenents,\n",
        "  # which can be treated as vectors of size 1\n",
        "  out, hidden = lstm(elem.view(1, 1, 1), hidden)\n",
        "  print(f'i={i} out={out.detach()}')\n",
        "print(f'Final hidden state={hidden[0].detach()} cell state={hidden[1].detach()}')"
      ],
      "execution_count": 25,
      "outputs": [
        {
          "output_type": "stream",
          "name": "stdout",
          "text": [
            "i=0 out=tensor([[[-0.0675,  0.1179,  0.1081,  0.0414, -0.0341]]])\n",
            "i=1 out=tensor([[[-0.1067,  0.1726,  0.1400,  0.0902, -0.0596]]])\n",
            "i=2 out=tensor([[[-0.1148,  0.1885,  0.1956,  0.0974, -0.0840]]])\n",
            "i=3 out=tensor([[[-0.1270,  0.2031,  0.1495,  0.1249, -0.0860]]])\n",
            "i=4 out=tensor([[[-0.1281,  0.2019,  0.1810,  0.1475, -0.1027]]])\n",
            "i=5 out=tensor([[[-0.1274,  0.2060,  0.0798,  0.1330, -0.0860]]])\n",
            "i=6 out=tensor([[[-0.1318,  0.2039,  0.0997,  0.1772, -0.1011]]])\n",
            "i=7 out=tensor([[[-0.1145,  0.2008, -0.0431,  0.1051, -0.0717]]])\n",
            "i=8 out=tensor([[[-0.1289,  0.1989,  0.0515,  0.1944, -0.1030]]])\n",
            "i=9 out=tensor([[[-0.1329,  0.1920,  0.0686,  0.1772, -0.0988]]])\n",
            "Final hidden state=tensor([[[-0.1329,  0.1920,  0.0686,  0.1772, -0.0988]]]) cell state=tensor([[[-0.2590,  0.4080,  0.1307,  0.4329, -0.2895]]])\n"
          ]
        }
      ]
    },
    {
      "cell_type": "markdown",
      "metadata": {
        "id": "Ph3iyjw_8F30"
      },
      "source": [
        "## To implement\n",
        "\n",
        "Process the whole sequence all at once by calling `lstm` only once and check that the output is exactly the same as above (remember to initialize the hidden state the same way)."
      ]
    },
    {
      "cell_type": "code",
      "metadata": {
        "id": "tFtxYqla8bJM",
        "colab": {
          "base_uri": "https://localhost:8080/"
        },
        "outputId": "ccf751a2-468f-4826-86b4-6a163f802e7a"
      },
      "source": [
        "# #########################################################\n",
        "#                    To implement\n",
        "# #########################################################\n",
        "\n",
        "# initialize the hidden state (including cell state)\n",
        "hidden = (torch.zeros(1, 1, 5),\n",
        "          torch.zeros(1, 1, 5))\n",
        "\n",
        "seq = torch.stack(sequence)\n",
        "seq = seq.reshape(10, 1, 1)\n",
        "\n",
        "out, hidden = lstm(seq, hidden)\n",
        "print(f'out={out.detach()}')\n",
        "print(f'Final hidden state={hidden[0].detach()} cell state={hidden[1].detach()}')"
      ],
      "execution_count": 26,
      "outputs": [
        {
          "output_type": "stream",
          "name": "stdout",
          "text": [
            "out=tensor([[[-0.0675,  0.1179,  0.1081,  0.0414, -0.0341]],\n",
            "\n",
            "        [[-0.1067,  0.1726,  0.1400,  0.0902, -0.0596]],\n",
            "\n",
            "        [[-0.1148,  0.1885,  0.1956,  0.0974, -0.0840]],\n",
            "\n",
            "        [[-0.1270,  0.2031,  0.1495,  0.1249, -0.0860]],\n",
            "\n",
            "        [[-0.1281,  0.2019,  0.1810,  0.1475, -0.1027]],\n",
            "\n",
            "        [[-0.1274,  0.2060,  0.0798,  0.1330, -0.0860]],\n",
            "\n",
            "        [[-0.1318,  0.2039,  0.0997,  0.1772, -0.1011]],\n",
            "\n",
            "        [[-0.1145,  0.2008, -0.0431,  0.1051, -0.0717]],\n",
            "\n",
            "        [[-0.1289,  0.1989,  0.0515,  0.1944, -0.1030]],\n",
            "\n",
            "        [[-0.1329,  0.1920,  0.0686,  0.1772, -0.0988]]])\n",
            "Final hidden state=tensor([[[-0.1329,  0.1920,  0.0686,  0.1772, -0.0988]]]) cell state=tensor([[[-0.2590,  0.4080,  0.1307,  0.4329, -0.2895]]])\n"
          ]
        }
      ]
    },
    {
      "cell_type": "markdown",
      "metadata": {
        "id": "9VAUJUhx9EAC"
      },
      "source": [
        "## Training a model\n",
        "\n",
        "Below we define a very simple model, which is a single layer of LSTM, where the output in each time step is processed by relu followed by a single fully connected layer, the output of which is a single number. We are going\n",
        "to use the number generated after reading the last element of the sequence,\n",
        "which will serve as the logit for our classification problem."
      ]
    },
    {
      "cell_type": "code",
      "metadata": {
        "id": "qncNRKMNOh9h"
      },
      "source": [
        "class Model(nn.Module):\n",
        "\n",
        "    def __init__(self, hidden_dim):\n",
        "        super(Model, self).__init__()\n",
        "        self.hidden_dim = hidden_dim\n",
        "        self.lstm = nn.LSTM(1, self.hidden_dim)\n",
        "        self.hidden2label = nn.Linear(hidden_dim, 1)\n",
        "\n",
        "    def forward(self, x):\n",
        "        out, _ = self.lstm(x)\n",
        "        sequence_len = x.shape[0]\n",
        "        logits = self.hidden2label(F.relu(out[-1].view(-1)))\n",
        "        return logits"
      ],
      "execution_count": 27,
      "outputs": []
    },
    {
      "cell_type": "markdown",
      "metadata": {
        "id": "IF4r0AUu9g6a"
      },
      "source": [
        "Below is a training loop, where we only train on the two hardest examples."
      ]
    },
    {
      "cell_type": "code",
      "metadata": {
        "id": "gTaCFMBBOkOp"
      },
      "source": [
        "def entire_training(EXAMPLES):\n",
        "  def eval_on_hard_examples(model):\n",
        "      with torch.no_grad():\n",
        "          logits = []\n",
        "          for sequence in EXAMPLES:\n",
        "              input = torch.tensor(sequence[0]).view(-1, 1, 1)\n",
        "              logit = model(input)\n",
        "              logits.append(logit.detach())\n",
        "          print(f'Logits for hard examples={logits}')\n",
        "\n",
        "\n",
        "  def train_model(hidden_dim, lr, num_steps=10000):\n",
        "      model = Model(hidden_dim=hidden_dim)\n",
        "      loss_function = nn.BCEWithLogitsLoss()\n",
        "      optimizer = optim.SGD(model.parameters(), lr=lr, momentum=0.99)\n",
        "\n",
        "      for step in range(num_steps):  \n",
        "          if step % 100 == 0:\n",
        "              eval_on_hard_examples(model)\n",
        "\n",
        "          for sequence, label in EXAMPLES:\n",
        "              model.zero_grad()\n",
        "              logit = model(torch.tensor(sequence).view(-1, 1, 1))  \n",
        "              \n",
        "              loss = loss_function(logit.view(-1), torch.tensor([label], dtype=torch.float32))\n",
        "              loss.backward()\n",
        "\n",
        "              optimizer.step()   \n",
        "\n",
        "  train_model(hidden_dim=20, lr=0.01, num_steps=10000)"
      ],
      "execution_count": 21,
      "outputs": []
    },
    {
      "cell_type": "code",
      "metadata": {
        "colab": {
          "base_uri": "https://localhost:8080/"
        },
        "id": "wVHU71P5EWsm",
        "outputId": "4c35a6c8-b14b-4faa-d3fa-b0672c2650c3"
      },
      "source": [
        "SEQUENCE_LEN = 10\n",
        "# Pairs of (sequence, label)\n",
        "HARD_EXAMPLES = [([0.]+(SEQUENCE_LEN-1)*[1.], 0),\n",
        "                (SEQUENCE_LEN*[1.], 1)]\n",
        "entire_training(HARD_EXAMPLES)"
      ],
      "execution_count": 22,
      "outputs": [
        {
          "output_type": "stream",
          "name": "stdout",
          "text": [
            "Logits for hard examples=[tensor([-0.1836]), tensor([-0.1834])]\n",
            "Logits for hard examples=[tensor([0.0205]), tensor([0.0208])]\n",
            "Logits for hard examples=[tensor([0.0220]), tensor([0.0224])]\n",
            "Logits for hard examples=[tensor([-0.0062]), tensor([-0.0051])]\n",
            "Logits for hard examples=[tensor([-0.0048]), tensor([0.0029])]\n",
            "Logits for hard examples=[tensor([0.1876]), tensor([0.1877])]\n",
            "Logits for hard examples=[tensor([0.0571]), tensor([0.0570])]\n",
            "Logits for hard examples=[tensor([0.0283]), tensor([0.0281])]\n",
            "Logits for hard examples=[tensor([-0.0226]), tensor([-0.0227])]\n",
            "Logits for hard examples=[tensor([0.0106]), tensor([0.0105])]\n",
            "Logits for hard examples=[tensor([0.0028]), tensor([0.0027])]\n",
            "Logits for hard examples=[tensor([0.0015]), tensor([0.0015])]\n",
            "Logits for hard examples=[tensor([0.0030]), tensor([0.0030])]\n",
            "Logits for hard examples=[tensor([0.0026]), tensor([0.0026])]\n",
            "Logits for hard examples=[tensor([0.0025]), tensor([0.0026])]\n",
            "Logits for hard examples=[tensor([0.0026]), tensor([0.0028])]\n",
            "Logits for hard examples=[tensor([0.0025]), tensor([0.0029])]\n",
            "Logits for hard examples=[tensor([0.0024]), tensor([0.0032])]\n",
            "Logits for hard examples=[tensor([0.0023]), tensor([0.0050])]\n",
            "Logits for hard examples=[tensor([-1.7319]), tensor([1.3227])]\n",
            "Logits for hard examples=[tensor([-10.5378]), tensor([9.7174])]\n",
            "Logits for hard examples=[tensor([-12.0676]), tensor([10.8715])]\n",
            "Logits for hard examples=[tensor([-12.2755]), tensor([11.0338])]\n",
            "Logits for hard examples=[tensor([-12.3191]), tensor([11.0621])]\n",
            "Logits for hard examples=[tensor([-12.3352]), tensor([11.0722])]\n",
            "Logits for hard examples=[tensor([-12.3454]), tensor([11.0799])]\n",
            "Logits for hard examples=[tensor([-12.3534]), tensor([11.0872])]\n",
            "Logits for hard examples=[tensor([-12.3604]), tensor([11.0944])]\n",
            "Logits for hard examples=[tensor([-12.3667]), tensor([11.1015])]\n",
            "Logits for hard examples=[tensor([-12.3724]), tensor([11.1085])]\n",
            "Logits for hard examples=[tensor([-12.3778]), tensor([11.1155])]\n",
            "Logits for hard examples=[tensor([-12.3828]), tensor([11.1225])]\n",
            "Logits for hard examples=[tensor([-12.3876]), tensor([11.1294])]\n",
            "Logits for hard examples=[tensor([-12.3922]), tensor([11.1363])]\n",
            "Logits for hard examples=[tensor([-12.3966]), tensor([11.1431])]\n",
            "Logits for hard examples=[tensor([-12.4009]), tensor([11.1499])]\n",
            "Logits for hard examples=[tensor([-12.4051]), tensor([11.1567])]\n",
            "Logits for hard examples=[tensor([-12.4091]), tensor([11.1634])]\n",
            "Logits for hard examples=[tensor([-12.4131]), tensor([11.1701])]\n",
            "Logits for hard examples=[tensor([-12.4169]), tensor([11.1766])]\n",
            "Logits for hard examples=[tensor([-12.4207]), tensor([11.1831])]\n",
            "Logits for hard examples=[tensor([-12.4243]), tensor([11.1896])]\n",
            "Logits for hard examples=[tensor([-12.4279]), tensor([11.1961])]\n",
            "Logits for hard examples=[tensor([-12.4314]), tensor([11.2025])]\n",
            "Logits for hard examples=[tensor([-12.4348]), tensor([11.2089])]\n",
            "Logits for hard examples=[tensor([-12.4382]), tensor([11.2153])]\n",
            "Logits for hard examples=[tensor([-12.4416]), tensor([11.2216])]\n",
            "Logits for hard examples=[tensor([-12.4449]), tensor([11.2279])]\n",
            "Logits for hard examples=[tensor([-12.4482]), tensor([11.2341])]\n",
            "Logits for hard examples=[tensor([-12.4514]), tensor([11.2403])]\n",
            "Logits for hard examples=[tensor([-12.4546]), tensor([11.2464])]\n",
            "Logits for hard examples=[tensor([-12.4578]), tensor([11.2525])]\n",
            "Logits for hard examples=[tensor([-12.4610]), tensor([11.2585])]\n",
            "Logits for hard examples=[tensor([-12.4641]), tensor([11.2645])]\n",
            "Logits for hard examples=[tensor([-12.4672]), tensor([11.2705])]\n",
            "Logits for hard examples=[tensor([-12.4703]), tensor([11.2765])]\n",
            "Logits for hard examples=[tensor([-12.4734]), tensor([11.2824])]\n",
            "Logits for hard examples=[tensor([-12.4764]), tensor([11.2883])]\n",
            "Logits for hard examples=[tensor([-12.4795]), tensor([11.2942])]\n",
            "Logits for hard examples=[tensor([-12.4825]), tensor([11.3000])]\n",
            "Logits for hard examples=[tensor([-12.4855]), tensor([11.3058])]\n",
            "Logits for hard examples=[tensor([-12.4884]), tensor([11.3116])]\n",
            "Logits for hard examples=[tensor([-12.4914]), tensor([11.3173])]\n",
            "Logits for hard examples=[tensor([-12.4943]), tensor([11.3230])]\n",
            "Logits for hard examples=[tensor([-12.4972]), tensor([11.3286])]\n",
            "Logits for hard examples=[tensor([-12.5001]), tensor([11.3342])]\n",
            "Logits for hard examples=[tensor([-12.5030]), tensor([11.3397])]\n",
            "Logits for hard examples=[tensor([-12.5059]), tensor([11.3452])]\n",
            "Logits for hard examples=[tensor([-12.5087]), tensor([11.3507])]\n",
            "Logits for hard examples=[tensor([-12.5116]), tensor([11.3562])]\n",
            "Logits for hard examples=[tensor([-12.5144]), tensor([11.3617])]\n",
            "Logits for hard examples=[tensor([-12.5172]), tensor([11.3672])]\n",
            "Logits for hard examples=[tensor([-12.5201]), tensor([11.3726])]\n",
            "Logits for hard examples=[tensor([-12.5229]), tensor([11.3780])]\n",
            "Logits for hard examples=[tensor([-12.5256]), tensor([11.3833])]\n",
            "Logits for hard examples=[tensor([-12.5284]), tensor([11.3887])]\n",
            "Logits for hard examples=[tensor([-12.5312]), tensor([11.3940])]\n",
            "Logits for hard examples=[tensor([-12.5339]), tensor([11.3992])]\n",
            "Logits for hard examples=[tensor([-12.5367]), tensor([11.4045])]\n",
            "Logits for hard examples=[tensor([-12.5394]), tensor([11.4096])]\n",
            "Logits for hard examples=[tensor([-12.5421]), tensor([11.4148])]\n",
            "Logits for hard examples=[tensor([-12.5447]), tensor([11.4199])]\n",
            "Logits for hard examples=[tensor([-12.5474]), tensor([11.4250])]\n",
            "Logits for hard examples=[tensor([-12.5500]), tensor([11.4300])]\n",
            "Logits for hard examples=[tensor([-12.5526]), tensor([11.4351])]\n",
            "Logits for hard examples=[tensor([-12.5551]), tensor([11.4401])]\n",
            "Logits for hard examples=[tensor([-12.5577]), tensor([11.4451])]\n",
            "Logits for hard examples=[tensor([-12.5603]), tensor([11.4501])]\n",
            "Logits for hard examples=[tensor([-12.5628]), tensor([11.4551])]\n",
            "Logits for hard examples=[tensor([-12.5654]), tensor([11.4601])]\n",
            "Logits for hard examples=[tensor([-12.5679]), tensor([11.4650])]\n",
            "Logits for hard examples=[tensor([-12.5704]), tensor([11.4699])]\n",
            "Logits for hard examples=[tensor([-12.5730]), tensor([11.4748])]\n",
            "Logits for hard examples=[tensor([-12.5755]), tensor([11.4796])]\n",
            "Logits for hard examples=[tensor([-12.5780]), tensor([11.4845])]\n",
            "Logits for hard examples=[tensor([-12.5806]), tensor([11.4892])]\n",
            "Logits for hard examples=[tensor([-12.5831]), tensor([11.4940])]\n",
            "Logits for hard examples=[tensor([-12.5856]), tensor([11.4987])]\n",
            "Logits for hard examples=[tensor([-12.5881]), tensor([11.5035])]\n",
            "Logits for hard examples=[tensor([-12.5906]), tensor([11.5081])]\n"
          ]
        }
      ]
    },
    {
      "cell_type": "markdown",
      "metadata": {
        "id": "2Lt7dRkJDfqd"
      },
      "source": [
        "## To implement\n",
        "\n",
        "1. Check for what values of `SEQUENCE_LEN` the model is able to discriminate betweeh the two hard examples (after training).\n",
        "\n"
      ]
    },
    {
      "cell_type": "code",
      "source": [
        "SEQUENCE_LEN = 100\n",
        "# Pairs of (sequence, label)\n",
        "HARD_EXAMPLES = [([0.]+(SEQUENCE_LEN-1)*[1.], 0),\n",
        "                (SEQUENCE_LEN*[1.], 1)]\n",
        "entire_training(HARD_EXAMPLES)"
      ],
      "metadata": {
        "colab": {
          "base_uri": "https://localhost:8080/"
        },
        "id": "SILHqab9Yu0R",
        "outputId": "75df9c69-508a-4d53-cfd8-70b13a8e78e8"
      },
      "execution_count": 28,
      "outputs": [
        {
          "output_type": "stream",
          "name": "stdout",
          "text": [
            "Logits for hard examples=[tensor([-0.1772]), tensor([-0.1772])]\n",
            "Logits for hard examples=[tensor([0.0107]), tensor([0.0107])]\n",
            "Logits for hard examples=[tensor([0.0247]), tensor([0.0247])]\n",
            "Logits for hard examples=[tensor([-0.0046]), tensor([-0.0046])]\n",
            "Logits for hard examples=[tensor([0.0001]), tensor([0.0001])]\n",
            "Logits for hard examples=[tensor([0.0025]), tensor([0.0025])]\n",
            "Logits for hard examples=[tensor([0.0010]), tensor([0.0010])]\n",
            "Logits for hard examples=[tensor([0.0013]), tensor([0.0013])]\n",
            "Logits for hard examples=[tensor([0.0014]), tensor([0.0014])]\n",
            "Logits for hard examples=[tensor([0.0013]), tensor([0.0013])]\n",
            "Logits for hard examples=[tensor([0.0013]), tensor([0.0013])]\n",
            "Logits for hard examples=[tensor([0.0013]), tensor([0.0013])]\n",
            "Logits for hard examples=[tensor([0.0013]), tensor([0.0013])]\n",
            "Logits for hard examples=[tensor([0.0013]), tensor([0.0013])]\n",
            "Logits for hard examples=[tensor([0.0013]), tensor([0.0013])]\n",
            "Logits for hard examples=[tensor([0.0013]), tensor([0.0013])]\n",
            "Logits for hard examples=[tensor([0.0013]), tensor([0.0013])]\n",
            "Logits for hard examples=[tensor([0.0013]), tensor([0.0013])]\n",
            "Logits for hard examples=[tensor([0.0013]), tensor([0.0013])]\n",
            "Logits for hard examples=[tensor([0.0013]), tensor([0.0013])]\n",
            "Logits for hard examples=[tensor([0.0013]), tensor([0.0013])]\n",
            "Logits for hard examples=[tensor([0.0013]), tensor([0.0013])]\n",
            "Logits for hard examples=[tensor([0.0013]), tensor([0.0013])]\n",
            "Logits for hard examples=[tensor([0.0013]), tensor([0.0013])]\n",
            "Logits for hard examples=[tensor([0.0013]), tensor([0.0013])]\n",
            "Logits for hard examples=[tensor([0.0013]), tensor([0.0013])]\n",
            "Logits for hard examples=[tensor([0.0013]), tensor([0.0013])]\n",
            "Logits for hard examples=[tensor([0.0013]), tensor([0.0013])]\n",
            "Logits for hard examples=[tensor([0.0013]), tensor([0.0013])]\n",
            "Logits for hard examples=[tensor([0.0013]), tensor([0.0013])]\n",
            "Logits for hard examples=[tensor([0.0013]), tensor([0.0013])]\n",
            "Logits for hard examples=[tensor([0.0013]), tensor([0.0013])]\n",
            "Logits for hard examples=[tensor([0.0013]), tensor([0.0013])]\n",
            "Logits for hard examples=[tensor([0.0013]), tensor([0.0013])]\n",
            "Logits for hard examples=[tensor([0.0013]), tensor([0.0013])]\n",
            "Logits for hard examples=[tensor([0.0013]), tensor([0.0013])]\n",
            "Logits for hard examples=[tensor([0.0013]), tensor([0.0013])]\n",
            "Logits for hard examples=[tensor([0.0013]), tensor([0.0013])]\n",
            "Logits for hard examples=[tensor([0.0013]), tensor([0.0013])]\n",
            "Logits for hard examples=[tensor([0.0013]), tensor([0.0013])]\n",
            "Logits for hard examples=[tensor([0.0013]), tensor([0.0013])]\n",
            "Logits for hard examples=[tensor([0.0013]), tensor([0.0013])]\n",
            "Logits for hard examples=[tensor([0.0013]), tensor([0.0013])]\n",
            "Logits for hard examples=[tensor([0.0013]), tensor([0.0013])]\n",
            "Logits for hard examples=[tensor([0.0013]), tensor([0.0013])]\n",
            "Logits for hard examples=[tensor([0.0013]), tensor([0.0013])]\n",
            "Logits for hard examples=[tensor([0.0013]), tensor([0.0013])]\n",
            "Logits for hard examples=[tensor([0.0013]), tensor([0.0013])]\n",
            "Logits for hard examples=[tensor([0.0013]), tensor([0.0013])]\n",
            "Logits for hard examples=[tensor([0.0013]), tensor([0.0013])]\n",
            "Logits for hard examples=[tensor([0.0013]), tensor([0.0013])]\n",
            "Logits for hard examples=[tensor([0.0013]), tensor([0.0013])]\n",
            "Logits for hard examples=[tensor([0.0013]), tensor([0.0013])]\n",
            "Logits for hard examples=[tensor([0.0013]), tensor([0.0013])]\n",
            "Logits for hard examples=[tensor([0.0013]), tensor([0.0013])]\n",
            "Logits for hard examples=[tensor([0.0013]), tensor([0.0013])]\n",
            "Logits for hard examples=[tensor([0.0013]), tensor([0.0013])]\n",
            "Logits for hard examples=[tensor([0.0013]), tensor([0.0013])]\n",
            "Logits for hard examples=[tensor([0.0013]), tensor([0.0013])]\n",
            "Logits for hard examples=[tensor([0.0013]), tensor([0.0013])]\n",
            "Logits for hard examples=[tensor([0.0013]), tensor([0.0013])]\n",
            "Logits for hard examples=[tensor([0.0013]), tensor([0.0013])]\n",
            "Logits for hard examples=[tensor([0.0013]), tensor([0.0013])]\n",
            "Logits for hard examples=[tensor([0.0013]), tensor([0.0013])]\n",
            "Logits for hard examples=[tensor([0.0013]), tensor([0.0013])]\n",
            "Logits for hard examples=[tensor([0.0013]), tensor([0.0013])]\n",
            "Logits for hard examples=[tensor([0.0013]), tensor([0.0013])]\n",
            "Logits for hard examples=[tensor([0.0013]), tensor([0.0013])]\n",
            "Logits for hard examples=[tensor([0.0013]), tensor([0.0013])]\n",
            "Logits for hard examples=[tensor([0.0013]), tensor([0.0013])]\n",
            "Logits for hard examples=[tensor([0.0013]), tensor([0.0013])]\n",
            "Logits for hard examples=[tensor([0.0013]), tensor([0.0013])]\n",
            "Logits for hard examples=[tensor([0.0013]), tensor([0.0013])]\n",
            "Logits for hard examples=[tensor([0.0013]), tensor([0.0013])]\n",
            "Logits for hard examples=[tensor([0.0013]), tensor([0.0013])]\n",
            "Logits for hard examples=[tensor([0.0013]), tensor([0.0013])]\n",
            "Logits for hard examples=[tensor([0.0013]), tensor([0.0013])]\n",
            "Logits for hard examples=[tensor([0.0013]), tensor([0.0013])]\n",
            "Logits for hard examples=[tensor([0.0013]), tensor([0.0013])]\n",
            "Logits for hard examples=[tensor([0.0013]), tensor([0.0013])]\n",
            "Logits for hard examples=[tensor([0.0013]), tensor([0.0013])]\n",
            "Logits for hard examples=[tensor([0.0013]), tensor([0.0013])]\n",
            "Logits for hard examples=[tensor([0.0013]), tensor([0.0013])]\n",
            "Logits for hard examples=[tensor([0.0013]), tensor([0.0013])]\n",
            "Logits for hard examples=[tensor([0.0013]), tensor([0.0013])]\n",
            "Logits for hard examples=[tensor([0.0013]), tensor([0.0013])]\n",
            "Logits for hard examples=[tensor([0.0013]), tensor([0.0013])]\n",
            "Logits for hard examples=[tensor([0.0013]), tensor([0.0013])]\n",
            "Logits for hard examples=[tensor([0.0013]), tensor([0.0013])]\n",
            "Logits for hard examples=[tensor([0.0013]), tensor([0.0013])]\n",
            "Logits for hard examples=[tensor([0.0013]), tensor([0.0013])]\n",
            "Logits for hard examples=[tensor([0.0013]), tensor([0.0013])]\n",
            "Logits for hard examples=[tensor([0.0013]), tensor([0.0013])]\n",
            "Logits for hard examples=[tensor([0.0013]), tensor([0.0013])]\n",
            "Logits for hard examples=[tensor([0.0013]), tensor([0.0013])]\n",
            "Logits for hard examples=[tensor([0.0013]), tensor([0.0013])]\n",
            "Logits for hard examples=[tensor([0.0013]), tensor([0.0013])]\n",
            "Logits for hard examples=[tensor([0.0013]), tensor([0.0013])]\n",
            "Logits for hard examples=[tensor([0.0013]), tensor([0.0013])]\n",
            "Logits for hard examples=[tensor([0.0013]), tensor([0.0013])]\n"
          ]
        }
      ]
    },
    {
      "cell_type": "markdown",
      "source": [
        "2. Instead of training on `HARD_EXAMPLES` only, modify the training loop to train on sequences where zero may be in any position of the sequence (so any valid sequence of `Type 0`, not just the hardest one). After modifying the training loop check for what values of `SEQUENCE_LEN` you can train the model successfully.\n",
        "\n",
        "\n",
        "Note that for steps 2-4 you may need to change the value of `num_steps`."
      ],
      "metadata": {
        "id": "N8IcrzL0ZT69"
      }
    },
    {
      "cell_type": "code",
      "source": [
        "SEQUENCE_LEN = 100\n",
        "EXAMPLES = [((SEQUENCE_LEN-1)*[1.]+[0.], 0),\n",
        "                 (SEQUENCE_LEN*[1.], 1)]\n",
        "\n",
        "entire_training(EXAMPLES)"
      ],
      "metadata": {
        "colab": {
          "base_uri": "https://localhost:8080/"
        },
        "id": "7es2d7qQaeiO",
        "outputId": "03d48f10-cf8c-4b61-851a-8a0cbeb81bc5"
      },
      "execution_count": 30,
      "outputs": [
        {
          "output_type": "stream",
          "name": "stdout",
          "text": [
            "Logits for hard examples=[tensor([0.0647]), tensor([0.0625])]\n",
            "Logits for hard examples=[tensor([-2.1317]), tensor([2.1291])]\n",
            "Logits for hard examples=[tensor([-6.9899]), tensor([7.6474])]\n",
            "Logits for hard examples=[tensor([-8.1958]), tensor([8.3898])]\n",
            "Logits for hard examples=[tensor([-8.4403]), tensor([8.6116])]\n",
            "Logits for hard examples=[tensor([-8.5602]), tensor([8.7039])]\n",
            "Logits for hard examples=[tensor([-8.6359]), tensor([8.7416])]\n",
            "Logits for hard examples=[tensor([-8.6841]), tensor([8.7817])]\n",
            "Logits for hard examples=[tensor([-8.7229]), tensor([8.8233])]\n",
            "Logits for hard examples=[tensor([-8.7575]), tensor([8.8655])]\n",
            "Logits for hard examples=[tensor([-8.7899]), tensor([8.9074])]\n",
            "Logits for hard examples=[tensor([-8.8218]), tensor([8.9476])]\n",
            "Logits for hard examples=[tensor([-8.8532]), tensor([8.9851])]\n",
            "Logits for hard examples=[tensor([-8.8834]), tensor([9.0222])]\n",
            "Logits for hard examples=[tensor([-8.9133]), tensor([9.0579])]\n",
            "Logits for hard examples=[tensor([-8.9428]), tensor([9.0919])]\n",
            "Logits for hard examples=[tensor([-8.9713]), tensor([9.1251])]\n",
            "Logits for hard examples=[tensor([-8.9995]), tensor([9.1570])]\n",
            "Logits for hard examples=[tensor([-9.0269]), tensor([9.1880])]\n",
            "Logits for hard examples=[tensor([-9.0536]), tensor([9.2181])]\n",
            "Logits for hard examples=[tensor([-9.0800]), tensor([9.2475])]\n",
            "Logits for hard examples=[tensor([-9.1059]), tensor([9.2757])]\n",
            "Logits for hard examples=[tensor([-9.1309]), tensor([9.3037])]\n",
            "Logits for hard examples=[tensor([-9.1555]), tensor([9.3304])]\n",
            "Logits for hard examples=[tensor([-9.1799]), tensor([9.3566])]\n",
            "Logits for hard examples=[tensor([-9.2035]), tensor([9.3824])]\n",
            "Logits for hard examples=[tensor([-9.2266]), tensor([9.4073])]\n",
            "Logits for hard examples=[tensor([-9.2491]), tensor([9.4315])]\n",
            "Logits for hard examples=[tensor([-9.2720]), tensor([9.4553])]\n",
            "Logits for hard examples=[tensor([-9.2938]), tensor([9.4786])]\n",
            "Logits for hard examples=[tensor([-9.3149]), tensor([9.5013])]\n",
            "Logits for hard examples=[tensor([-9.3364]), tensor([9.5238])]\n",
            "Logits for hard examples=[tensor([-9.3571]), tensor([9.5457])]\n",
            "Logits for hard examples=[tensor([-9.3774]), tensor([9.5668])]\n",
            "Logits for hard examples=[tensor([-9.3975]), tensor([9.5878])]\n",
            "Logits for hard examples=[tensor([-9.4169]), tensor([9.6087])]\n",
            "Logits for hard examples=[tensor([-9.4362]), tensor([9.6288])]\n",
            "Logits for hard examples=[tensor([-9.4552]), tensor([9.6485])]\n",
            "Logits for hard examples=[tensor([-9.4738]), tensor([9.6681])]\n",
            "Logits for hard examples=[tensor([-9.4921]), tensor([9.6869])]\n",
            "Logits for hard examples=[tensor([-9.5103]), tensor([9.7055])]\n",
            "Logits for hard examples=[tensor([-9.5280]), tensor([9.7242])]\n",
            "Logits for hard examples=[tensor([-9.5455]), tensor([9.7422])]\n",
            "Logits for hard examples=[tensor([-9.5628]), tensor([9.7597])]\n",
            "Logits for hard examples=[tensor([-9.5797]), tensor([9.7774])]\n",
            "Logits for hard examples=[tensor([-9.5964]), tensor([9.7945])]\n",
            "Logits for hard examples=[tensor([-9.6126]), tensor([9.8115])]\n",
            "Logits for hard examples=[tensor([-9.6289]), tensor([9.8282])]\n",
            "Logits for hard examples=[tensor([-9.6448]), tensor([9.8444])]\n",
            "Logits for hard examples=[tensor([-9.6607]), tensor([9.8604])]\n",
            "Logits for hard examples=[tensor([-9.6761]), tensor([9.8764])]\n",
            "Logits for hard examples=[tensor([-9.6914]), tensor([9.8920])]\n",
            "Logits for hard examples=[tensor([-9.7065]), tensor([9.9074])]\n",
            "Logits for hard examples=[tensor([-9.7213]), tensor([9.9226])]\n",
            "Logits for hard examples=[tensor([-9.7360]), tensor([9.9375])]\n",
            "Logits for hard examples=[tensor([-9.7503]), tensor([9.9522])]\n",
            "Logits for hard examples=[tensor([-9.7648]), tensor([9.9667])]\n",
            "Logits for hard examples=[tensor([-9.7787]), tensor([9.9812])]\n",
            "Logits for hard examples=[tensor([-9.7926]), tensor([9.9952])]\n",
            "Logits for hard examples=[tensor([-9.8064]), tensor([10.0093])]\n",
            "Logits for hard examples=[tensor([-9.8200]), tensor([10.0231])]\n",
            "Logits for hard examples=[tensor([-9.8332]), tensor([10.0365])]\n",
            "Logits for hard examples=[tensor([-9.8465]), tensor([10.0497])]\n",
            "Logits for hard examples=[tensor([-9.8595]), tensor([10.0632])]\n",
            "Logits for hard examples=[tensor([-9.8724]), tensor([10.0764])]\n",
            "Logits for hard examples=[tensor([-9.8851]), tensor([10.0894])]\n",
            "Logits for hard examples=[tensor([-9.8978]), tensor([10.1020])]\n",
            "Logits for hard examples=[tensor([-9.9101]), tensor([10.1146])]\n",
            "Logits for hard examples=[tensor([-9.9222]), tensor([10.1272])]\n",
            "Logits for hard examples=[tensor([-9.9345]), tensor([10.1394])]\n",
            "Logits for hard examples=[tensor([-9.9466]), tensor([10.1516])]\n",
            "Logits for hard examples=[tensor([-9.9585]), tensor([10.1636])]\n",
            "Logits for hard examples=[tensor([-9.9702]), tensor([10.1754])]\n",
            "Logits for hard examples=[tensor([-9.9818]), tensor([10.1872])]\n",
            "Logits for hard examples=[tensor([-9.9933]), tensor([10.1990])]\n",
            "Logits for hard examples=[tensor([-10.0047]), tensor([10.2103])]\n",
            "Logits for hard examples=[tensor([-10.0158]), tensor([10.2215])]\n",
            "Logits for hard examples=[tensor([-10.0270]), tensor([10.2330])]\n",
            "Logits for hard examples=[tensor([-10.0380]), tensor([10.2441])]\n",
            "Logits for hard examples=[tensor([-10.0489]), tensor([10.2551])]\n",
            "Logits for hard examples=[tensor([-10.0596]), tensor([10.2661])]\n",
            "Logits for hard examples=[tensor([-10.0703]), tensor([10.2767])]\n",
            "Logits for hard examples=[tensor([-10.0808]), tensor([10.2873])]\n",
            "Logits for hard examples=[tensor([-10.0914]), tensor([10.2980])]\n",
            "Logits for hard examples=[tensor([-10.1017]), tensor([10.3085])]\n",
            "Logits for hard examples=[tensor([-10.1120]), tensor([10.3187])]\n",
            "Logits for hard examples=[tensor([-10.1220]), tensor([10.3291])]\n",
            "Logits for hard examples=[tensor([-10.1322]), tensor([10.3391])]\n",
            "Logits for hard examples=[tensor([-10.1423]), tensor([10.3490])]\n",
            "Logits for hard examples=[tensor([-10.1520]), tensor([10.3592])]\n",
            "Logits for hard examples=[tensor([-10.1617]), tensor([10.3690])]\n",
            "Logits for hard examples=[tensor([-10.1715]), tensor([10.3787])]\n",
            "Logits for hard examples=[tensor([-10.1810]), tensor([10.3884])]\n",
            "Logits for hard examples=[tensor([-10.1906]), tensor([10.3979])]\n",
            "Logits for hard examples=[tensor([-10.2000]), tensor([10.4074])]\n",
            "Logits for hard examples=[tensor([-10.2094]), tensor([10.4168])]\n",
            "Logits for hard examples=[tensor([-10.2186]), tensor([10.4261])]\n",
            "Logits for hard examples=[tensor([-10.2277]), tensor([10.4355])]\n",
            "Logits for hard examples=[tensor([-10.2369]), tensor([10.4446])]\n",
            "Logits for hard examples=[tensor([-10.2458]), tensor([10.4536])]\n"
          ]
        }
      ]
    },
    {
      "cell_type": "markdown",
      "source": [
        "3. Replace LSTM by a classic RNN and check for what values of `SEQUENCE_LEN` you can train the model successfully.\n"
      ],
      "metadata": {
        "id": "izjAzwDzZYQn"
      }
    },
    {
      "cell_type": "code",
      "source": [
        "class ModelRNN(nn.Module):\n",
        "\n",
        "  def __init__(self, hidden_dim):\n",
        "    super(ModelRNN, self).__init__()\n",
        "    self.hidden_dim = hidden_dim\n",
        "    self.rnn = torch.nn.RNN(1, self.hidden_dim)\n",
        "    self.activ = F.relu()\n",
        "    self.lin = torch.nn.Linear(hidden_dim, 1)\n",
        "  def forward(self, x):\n",
        "    out_rnn, _ = self.rnn(x)\n",
        "    logits = self.lin(self.activ(out_rnn[-1].view(-1)))\n",
        "    return logits"
      ],
      "metadata": {
        "id": "a7Xy-TP4cNYU"
      },
      "execution_count": 31,
      "outputs": []
    },
    {
      "cell_type": "markdown",
      "source": [
        "4. Write a proper curricullum learning loop, where in a loop you consider longer and longer sequences, where expansion of the sequence length happens only after the model is trained successfully on the current length."
      ],
      "metadata": {
        "id": "BMSFTHbXZZ5S"
      }
    }
  ]
}
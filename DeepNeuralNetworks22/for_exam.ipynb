{
  "nbformat": 4,
  "nbformat_minor": 0,
  "metadata": {
    "colab": {
      "provenance": [],
      "authorship_tag": "ABX9TyNnbDobS/oGWK54hYFcDpxO",
      "include_colab_link": true
    },
    "kernelspec": {
      "name": "python3",
      "display_name": "Python 3"
    },
    "language_info": {
      "name": "python"
    }
  },
  "cells": [
    {
      "cell_type": "markdown",
      "metadata": {
        "id": "view-in-github",
        "colab_type": "text"
      },
      "source": [
        "<a href=\"https://colab.research.google.com/github/asia281/dnn2022/blob/main/for_exam.ipynb\" target=\"_parent\"><img src=\"https://colab.research.google.com/assets/colab-badge.svg\" alt=\"Open In Colab\"/></a>"
      ]
    },
    {
      "cell_type": "code",
      "source": [
        "# you should define a variable values of shape (6, 100) and compute according\n",
        "# to the formula in the problem statement in a vectorized way\n",
        "\n",
        "powers = 2 * n_cutoffs  # kolejne wykladniki\n",
        "factorials = (-1) ** (n_cutoffs % 2) * factorial(2 * n_cutoffs) # i mnożniki\n",
        "\n",
        "x_values_all, powers_all = np.meshgrid(x_values, powers)\n",
        "_, factorials_all = np.meshgrid(x_values, factorials)\n",
        "\n",
        "values = (x_values_all ** powers_all) / factorials_all\n",
        "\n",
        "values[0] += 1 # dodac wartosc dla zera\n",
        "values = np.cumsum(values, axis=0) # i zrobic sumy prefiksowe\n",
        "\n",
        "# Calculate the maximum error for each x using mask\n",
        "x_mask = np.where((x_values >= -np.pi) & (x_values <= np.pi))\n",
        "max_errors = [np.abs(np.cos(x_values[x_mask]) - values[:, x_mask])]\n",
        "#max_errors = [np.abs(np.cos(x_values[25:-25]) - values[:, 25:-25])]\n",
        "max_error = np.max(max_errors)"
      ],
      "metadata": {
        "id": "OfySYs73Zu3v"
      },
      "execution_count": null,
      "outputs": []
    },
    {
      "cell_type": "markdown",
      "source": [
        "find sum_i sum_j 1 + log(|x_i - x_j|) here i given"
      ],
      "metadata": {
        "id": "rBoD-V9kYLdT"
      }
    },
    {
      "cell_type": "code",
      "execution_count": null,
      "metadata": {
        "id": "pP5V-RIlXwOE"
      },
      "outputs": [],
      "source": [
        "mask = indices[:,None] < np.arange(len(x))\n",
        "v = x[indices,None] - x\n",
        "vmasked = v[mask]\n",
        "log_addition = np.log(np.abs(vmasked))\n",
        "out = log_addition.sum() + mask.sum()"
      ]
    },
    {
      "cell_type": "code",
      "source": [
        "data = np.arange(0, 12, 1, dtype = int)"
      ],
      "metadata": {
        "id": "k9TzN1X3YjM5"
      },
      "execution_count": null,
      "outputs": []
    },
    {
      "cell_type": "code",
      "source": [
        "import numpy as np\n",
        "\n",
        "x = np.arange(1, 11, 1)\n",
        "x_grid, y_grid = np.meshgrid(x, x, indexing='ij')\n",
        "x_grid * y_grid\n",
        "\n",
        "x = x[np.newaxis]\n",
        "x * x.T"
      ],
      "metadata": {
        "id": "uB2CJL7IYjmp"
      },
      "execution_count": null,
      "outputs": []
    },
    {
      "cell_type": "code",
      "source": [
        "### YOUR CODE BEGINS HERE ###\n",
        "def compute_func_arr(a_arr):\n",
        "  step = 0.001\n",
        "  n_steps = int(1/step)\n",
        "  x = np.linspace(0, 1-step, n_steps)\n",
        "\n",
        "  a_arr = a_arr * np.pi * 2.\n",
        "  b = np.reshape(a_arr, (-1, 1, 1))\n",
        "  a = np.reshape(a_arr, (1, -1, 1))\n",
        "\n",
        "  answer = np.mean(np.sin(a * x) * np.sin(b * x), axis=2)\n",
        "  return answer\n",
        "### YOUR CODE ENDS HERE ###\n",
        "\n",
        "answer = compute_func_arr(np.asarray([0, 1, 2, 3, 4]))"
      ],
      "metadata": {
        "id": "FCi1qhuIZFqa"
      },
      "execution_count": null,
      "outputs": []
    },
    {
      "cell_type": "code",
      "source": [
        "np.random.seed(0)\n",
        "sample = np.random.randint(0, 3, size=(10, 10))\n",
        "print(sample)\n",
        "### YOUR CODE BEGINS HERE ###\n",
        "sum_col = np.sum(sample, axis=0)\n",
        "sample[:, sum_col % 3 == 1] = 1\n",
        "print(sample)\n",
        "\n",
        "answer = np.sum(sample)\n",
        "print(answer)\n",
        "### YOUR CODE ENDS HERE ###\n",
        "\n",
        "assert answer == 88"
      ],
      "metadata": {
        "id": "fpwmcDrSZJtk"
      },
      "execution_count": null,
      "outputs": []
    },
    {
      "cell_type": "markdown",
      "source": [
        "How much should movie earn to be among 2% best earning movies?\n",
        "Select movies that earned more than this value.\n",
        "Calculate their mean rating."
      ],
      "metadata": {
        "id": "djB7zElTZbeT"
      }
    },
    {
      "cell_type": "code",
      "source": [
        "ratio = int(df.shape[0] * 0.02)\n",
        "answer = np.mean(df.nlargest(n=ratio, columns=[col_revenue])[col_rating])"
      ],
      "metadata": {
        "id": "XQlK6de8ZZKU"
      },
      "execution_count": null,
      "outputs": []
    },
    {
      "cell_type": "markdown",
      "source": [
        "Calculate mean metascore and mean revenue per director. (use groupby)\n",
        "Restrict results to the directors that directed more than four movies. (look up value_counts method)\n",
        "Sort the results with respect to the metascore and display the rating as a dataframe.\n",
        "Who is the 3rd director it this rating and what is his/her mean revenue?"
      ],
      "metadata": {
        "id": "4YXcL4H8Zd8h"
      }
    },
    {
      "cell_type": "code",
      "source": [
        "col_director = 'Director'\n",
        "col_metascore = 'Metascore'\n",
        "\n",
        "df_removed = df.groupby(col_director).agg({col_metascore: 'mean', col_revenue: 'mean'})\n",
        "no_movies = df[col_director].value_counts()\n",
        "df_removed = df_removed[no_movies > 4]\n",
        "\n",
        "df_sort = df_removed.sort_values(col_metascore, ascending=False)\n",
        "second_director = df_sort.iloc[2]\n",
        "director = second_director.name\n",
        "revenue = second_director[col_revenue]"
      ],
      "metadata": {
        "id": "AP33OCisZegi"
      },
      "execution_count": null,
      "outputs": []
    },
    {
      "cell_type": "code",
      "source": [
        "# covariance X and Y:\n",
        "covariance_lambda = lambda data: data['X'].cov(data['Y'])\n",
        "df.groupby('Series').apply(covariance_lambda)"
      ],
      "metadata": {
        "id": "mjOmcnSRZmiL"
      },
      "execution_count": null,
      "outputs": []
    },
    {
      "cell_type": "code",
      "source": [
        "df = pd.read_csv(\"bml-exam-atp-data.csv\")\n",
        "\n",
        "import matplotlib.pyplot as plt\n",
        "\n",
        "# Step 1: Filter failed experiments\n",
        "col_experiment_id = 'experiment_id'\n",
        "col_problem_solved = 'problem_solved'\n",
        "col_problem_loaded = 'problem_loaded'\n",
        "col_step = 'step'\n",
        "col_checkpoint = 'checkpoint_step'\n",
        "col_temperature = 'temperature'\n",
        "col_success = 'success_rate'\n",
        "\n",
        "df_removed = df.groupby([col_checkpoint, col_temperature], as_index=False).agg({col_problem_solved: 'sum', col_problem_loaded: 'sum', col_step: 'max'})\n",
        "\n",
        "df_removed = df_removed[df_removed[col_step] == 1015]\n",
        "\n",
        "\n",
        "# Step 2: Compute success rate properly\n",
        "df_removed[col_success] = df_removed[col_problem_solved] / df_removed[col_problem_loaded]\n",
        "print(df_removed)\n",
        "\n",
        "# Step 3: Plot the results\n",
        "temperatures = df_removed[col_temperature].unique()\n",
        "plt.figure(figsize=(10, 6))\n",
        "\n",
        "for temperature in temperatures:\n",
        "    temp_df = df_removed[df_removed[col_temperature] == temperature]\n",
        "    plt.plot(temp_df[col_checkpoint], temp_df[col_success], label=f'Temperature {temperature}')\n",
        "\n",
        "plt.xlabel('Checkpoint Step')\n",
        "plt.ylabel('Success Rate')\n",
        "plt.title('Success Rate of ATP System for Different Temperatures')\n",
        "plt.legend()\n",
        "plt.grid()\n",
        "plt.show()"
      ],
      "metadata": {
        "id": "o4HnOVlxaDsQ"
      },
      "execution_count": null,
      "outputs": []
    }
  ]
}